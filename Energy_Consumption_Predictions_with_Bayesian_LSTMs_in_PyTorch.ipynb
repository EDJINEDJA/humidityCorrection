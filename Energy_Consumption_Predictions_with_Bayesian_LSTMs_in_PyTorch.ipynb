{
  "cells": [
    {
      "cell_type": "markdown",
      "metadata": {
        "id": "VHRshe9Y-Q0Q"
      },
      "source": [
        "# Energy Consumption Predictions with Bayesian LSTMs in PyTorch"
      ]
    },
    {
      "cell_type": "markdown",
      "metadata": {
        "id": "8GGWUqKU1paW"
      },
      "source": [
        "Author: Pawarit Laosunthara\n",
        "\n"
      ]
    },
    {
      "cell_type": "markdown",
      "metadata": {
        "id": "3FQQioKQ-Tkr"
      },
      "source": [
        "# **Important Note for GitHub Readers:**\n",
        "Please click the **Open in Colab** button above in order to view all **interactive visualizations**.\n",
        "\n",
        "This notebook demonstrates an implementation of an (Approximate) Bayesian Recurrent Neural Network in PyTorch, originally inspired by the *Deep and Confident Prediction for Time Series at Uber* (https://arxiv.org/pdf/1709.01907.pdf)\n",
        "\n",
        "<br>\n",
        "\n",
        "In this approach, Monte Carlo dropout is used to **approximate** Bayesian inference, allowing our predictions to have explicit uncertainties and confidence intervals. This property makes Bayesian Neural Networks highly appealing to critical applications requiring uncertainty quantification.\n",
        "The *Appliances energy prediction* dataset used in this example is from the UCI Machine Learning Repository (https://archive.ics.uci.edu/ml/datasets/Appliances+energy+prediction)\n",
        "\n",
        "\n",
        "**Note:** this notebook purely serves to demonstrate the implementation of Bayesian LSTMs (Long Short-Term Memory) networks in PyTorch. Therefore, extensive data exploration and feature engineering is not part of the scope of this investigation."
      ]
    },
    {
      "cell_type": "markdown",
      "metadata": {
        "id": "psI_d17Y_3_9"
      },
      "source": [
        "# Preliminary Data Wrangling"
      ]
    },
    {
      "cell_type": "markdown",
      "metadata": {
        "id": "OFY02qDSAbqI"
      },
      "source": [
        "**Selected Columns:**\n",
        "\n",
        "For simplicity and speed when running this notebook, only temporal and autoregressive features are used.\n",
        "\n",
        "- date time year-month-day hour:minute:second, sampled every 10 minutes \\\n",
        "- Appliances, energy use in Wh for the corresponding 10-minute timestamp \\\n",
        "- day_of_week, where Monday corresponds to 0 \\\n",
        "- hour_of_day\n"
      ]
    },
    {
      "cell_type": "code",
      "execution_count": 1,
      "metadata": {
        "id": "uWNK0BtB2W0E"
      },
      "outputs": [],
      "source": [
        "import pandas as pd"
      ]
    },
    {
      "cell_type": "code",
      "execution_count": 6,
      "metadata": {
        "id": "WDYp3nRh-Bpv"
      },
      "outputs": [],
      "source": [
        "energy_df = pd.read_csv('https://archive.ics.uci.edu/ml/machine-learning-databases/00374/energydata_complete.csv')\n",
        "\n",
        "energy_df['date'] = pd.to_datetime(energy_df['date'])\n",
        "\n",
        "energy_df['month'] = energy_df['date'].dt.month.astype(int)\n",
        "energy_df['day_of_month'] = energy_df['date'].dt.day.astype(int)\n",
        "\n",
        "# day_of_week=0 corresponds to Monday\n",
        "energy_df['day_of_week'] = energy_df['date'].dt.dayofweek.astype(int)\n",
        "energy_df['hour_of_day'] = energy_df['date'].dt.hour.astype(int)\n",
        "\n",
        "selected_columns = ['date', 'day_of_week', 'hour_of_day', 'Appliances']\n",
        "energy_df = energy_df[selected_columns]"
      ]
    },
    {
      "cell_type": "code",
      "execution_count": 3,
      "metadata": {
        "colab": {
          "base_uri": "https://localhost:8080/",
          "height": 215
        },
        "id": "vv4cV2qr-E-8",
        "outputId": "250e4c90-4b8c-4260-e066-81cc9ae0e513"
      },
      "outputs": [
        {
          "data": {
            "text/html": [
              "<div>\n",
              "<style scoped>\n",
              "    .dataframe tbody tr th:only-of-type {\n",
              "        vertical-align: middle;\n",
              "    }\n",
              "\n",
              "    .dataframe tbody tr th {\n",
              "        vertical-align: top;\n",
              "    }\n",
              "\n",
              "    .dataframe thead th {\n",
              "        text-align: right;\n",
              "    }\n",
              "</style>\n",
              "<table border=\"1\" class=\"dataframe\">\n",
              "  <thead>\n",
              "    <tr style=\"text-align: right;\">\n",
              "      <th></th>\n",
              "      <th>date</th>\n",
              "      <th>day_of_week</th>\n",
              "      <th>hour_of_day</th>\n",
              "      <th>Appliances</th>\n",
              "    </tr>\n",
              "  </thead>\n",
              "  <tbody>\n",
              "    <tr>\n",
              "      <th>0</th>\n",
              "      <td>2016-01-11 17:00:00</td>\n",
              "      <td>0</td>\n",
              "      <td>17</td>\n",
              "      <td>60</td>\n",
              "    </tr>\n",
              "    <tr>\n",
              "      <th>1</th>\n",
              "      <td>2016-01-11 17:10:00</td>\n",
              "      <td>0</td>\n",
              "      <td>17</td>\n",
              "      <td>60</td>\n",
              "    </tr>\n",
              "    <tr>\n",
              "      <th>2</th>\n",
              "      <td>2016-01-11 17:20:00</td>\n",
              "      <td>0</td>\n",
              "      <td>17</td>\n",
              "      <td>50</td>\n",
              "    </tr>\n",
              "    <tr>\n",
              "      <th>3</th>\n",
              "      <td>2016-01-11 17:30:00</td>\n",
              "      <td>0</td>\n",
              "      <td>17</td>\n",
              "      <td>50</td>\n",
              "    </tr>\n",
              "    <tr>\n",
              "      <th>4</th>\n",
              "      <td>2016-01-11 17:40:00</td>\n",
              "      <td>0</td>\n",
              "      <td>17</td>\n",
              "      <td>60</td>\n",
              "    </tr>\n",
              "  </tbody>\n",
              "</table>\n",
              "</div>"
            ],
            "text/plain": [
              "                 date  day_of_week  hour_of_day  Appliances\n",
              "0 2016-01-11 17:00:00            0           17          60\n",
              "1 2016-01-11 17:10:00            0           17          60\n",
              "2 2016-01-11 17:20:00            0           17          50\n",
              "3 2016-01-11 17:30:00            0           17          50\n",
              "4 2016-01-11 17:40:00            0           17          60"
            ]
          },
          "execution_count": 3,
          "metadata": {},
          "output_type": "execute_result"
        }
      ],
      "source": [
        "energy_df.head()"
      ]
    },
    {
      "cell_type": "markdown",
      "metadata": {
        "id": "d8BJQAqaJqv7"
      },
      "source": [
        "## Time Series Transformations\n",
        "\n",
        "1. The dataset is to be re-sampled at an hourly rate for more meaningful analytics.\n",
        "\n",
        "2. To alleviate exponential effects, the target variable is log-transformed as per the Uber paper.\n",
        "\n",
        "3. For simplicity and speed when running this notebook, only temporal and autoregressive features, namely `day_of_week`, `hour_of_day`, \\\n",
        "and previous values of `Appliances` are used as features"
      ]
    },
    {
      "cell_type": "code",
      "execution_count": 7,
      "metadata": {
        "id": "LcXp9XEaJqXO"
      },
      "outputs": [],
      "source": [
        "import numpy as np\n",
        "\n",
        "resample_df = energy_df.set_index('date').resample('1H').mean()\n"
      ]
    },
    {
      "cell_type": "code",
      "execution_count": 9,
      "metadata": {},
      "outputs": [
        {
          "data": {
            "text/html": [
              "<div>\n",
              "<style scoped>\n",
              "    .dataframe tbody tr th:only-of-type {\n",
              "        vertical-align: middle;\n",
              "    }\n",
              "\n",
              "    .dataframe tbody tr th {\n",
              "        vertical-align: top;\n",
              "    }\n",
              "\n",
              "    .dataframe thead th {\n",
              "        text-align: right;\n",
              "    }\n",
              "</style>\n",
              "<table border=\"1\" class=\"dataframe\">\n",
              "  <thead>\n",
              "    <tr style=\"text-align: right;\">\n",
              "      <th></th>\n",
              "      <th>day_of_week</th>\n",
              "      <th>hour_of_day</th>\n",
              "      <th>Appliances</th>\n",
              "    </tr>\n",
              "    <tr>\n",
              "      <th>date</th>\n",
              "      <th></th>\n",
              "      <th></th>\n",
              "      <th></th>\n",
              "    </tr>\n",
              "  </thead>\n",
              "  <tbody>\n",
              "    <tr>\n",
              "      <th>2016-01-11 17:00:00</th>\n",
              "      <td>0.0</td>\n",
              "      <td>17.0</td>\n",
              "      <td>55.000000</td>\n",
              "    </tr>\n",
              "    <tr>\n",
              "      <th>2016-01-11 18:00:00</th>\n",
              "      <td>0.0</td>\n",
              "      <td>18.0</td>\n",
              "      <td>176.666667</td>\n",
              "    </tr>\n",
              "    <tr>\n",
              "      <th>2016-01-11 19:00:00</th>\n",
              "      <td>0.0</td>\n",
              "      <td>19.0</td>\n",
              "      <td>173.333333</td>\n",
              "    </tr>\n",
              "    <tr>\n",
              "      <th>2016-01-11 20:00:00</th>\n",
              "      <td>0.0</td>\n",
              "      <td>20.0</td>\n",
              "      <td>125.000000</td>\n",
              "    </tr>\n",
              "    <tr>\n",
              "      <th>2016-01-11 21:00:00</th>\n",
              "      <td>0.0</td>\n",
              "      <td>21.0</td>\n",
              "      <td>103.333333</td>\n",
              "    </tr>\n",
              "    <tr>\n",
              "      <th>2016-01-11 22:00:00</th>\n",
              "      <td>0.0</td>\n",
              "      <td>22.0</td>\n",
              "      <td>266.666667</td>\n",
              "    </tr>\n",
              "    <tr>\n",
              "      <th>2016-01-11 23:00:00</th>\n",
              "      <td>0.0</td>\n",
              "      <td>23.0</td>\n",
              "      <td>56.666667</td>\n",
              "    </tr>\n",
              "  </tbody>\n",
              "</table>\n",
              "</div>"
            ],
            "text/plain": [
              "                     day_of_week  hour_of_day  Appliances\n",
              "date                                                     \n",
              "2016-01-11 17:00:00          0.0         17.0   55.000000\n",
              "2016-01-11 18:00:00          0.0         18.0  176.666667\n",
              "2016-01-11 19:00:00          0.0         19.0  173.333333\n",
              "2016-01-11 20:00:00          0.0         20.0  125.000000\n",
              "2016-01-11 21:00:00          0.0         21.0  103.333333\n",
              "2016-01-11 22:00:00          0.0         22.0  266.666667\n",
              "2016-01-11 23:00:00          0.0         23.0   56.666667"
            ]
          },
          "execution_count": 9,
          "metadata": {},
          "output_type": "execute_result"
        }
      ],
      "source": [
        "resample_df.head(7)"
      ]
    },
    {
      "cell_type": "code",
      "execution_count": 11,
      "metadata": {},
      "outputs": [],
      "source": [
        "resample_df['date'] = resample_df.index\n",
        "resample_df['log_energy_consumption'] = np.log(resample_df['Appliances'])\n",
        "\n",
        "datetime_columns = ['date', 'day_of_week', 'hour_of_day']\n",
        "target_column = 'log_energy_consumption'\n",
        "\n",
        "feature_columns = datetime_columns + ['log_energy_consumption']\n",
        "\n",
        "# For clarity in visualization and presentation, \n",
        "# only consider the first 150 hours of data.\n",
        "resample_df = resample_df[feature_columns]"
      ]
    },
    {
      "cell_type": "code",
      "execution_count": null,
      "metadata": {
        "colab": {
          "base_uri": "https://localhost:8080/",
          "height": 542
        },
        "id": "tY1pfEIGDvvc",
        "outputId": "5712ac76-3bb4-4557-9863-40172723b5d2"
      },
      "outputs": [
        {
          "data": {
            "text/html": [
              "<html>\n",
              "<head><meta charset=\"utf-8\" /></head>\n",
              "<body>\n",
              "    <div>            <script src=\"https://cdnjs.cloudflare.com/ajax/libs/mathjax/2.7.5/MathJax.js?config=TeX-AMS-MML_SVG\"></script><script type=\"text/javascript\">if (window.MathJax) {MathJax.Hub.Config({SVG: {font: \"STIX-Web\"}});}</script>                <script type=\"text/javascript\">window.PlotlyConfig = {MathJaxConfig: 'local'};</script>\n",
              "        <script src=\"https://cdn.plot.ly/plotly-2.8.3.min.js\"></script>                <div id=\"a961e5a3-faf3-4efb-9533-a1f4a8e6bd32\" class=\"plotly-graph-div\" style=\"height:525px; width:100%;\"></div>            <script type=\"text/javascript\">                                    window.PLOTLYENV=window.PLOTLYENV || {};                                    if (document.getElementById(\"a961e5a3-faf3-4efb-9533-a1f4a8e6bd32\")) {                    Plotly.newPlot(                        \"a961e5a3-faf3-4efb-9533-a1f4a8e6bd32\",                        [{\"hovertemplate\":\"weekday=Monday<br>date=%{x}<br>log_energy_consumption=%{y}<extra></extra>\",\"legendgroup\":\"Monday\",\"line\":{\"color\":\"#636efa\",\"dash\":\"solid\"},\"marker\":{\"symbol\":\"circle\"},\"mode\":\"lines\",\"name\":\"Monday\",\"orientation\":\"v\",\"showlegend\":true,\"x\":[\"2016-01-11T17:00:00\",\"2016-01-11T18:00:00\",\"2016-01-11T19:00:00\",\"2016-01-11T20:00:00\",\"2016-01-11T21:00:00\",\"2016-01-11T22:00:00\",\"2016-01-11T23:00:00\"],\"xaxis\":\"x\",\"y\":[4.007333185232471,5.174264717878057,5.155216522907363,4.8283137373023015,4.637960008811082,5.585999438999818,4.037186148382152],\"yaxis\":\"y\",\"type\":\"scatter\"},{\"hovertemplate\":\"weekday=Tuesday<br>date=%{x}<br>log_energy_consumption=%{y}<extra></extra>\",\"legendgroup\":\"Tuesday\",\"line\":{\"color\":\"#EF553B\",\"dash\":\"solid\"},\"marker\":{\"symbol\":\"circle\"},\"mode\":\"lines\",\"name\":\"Tuesday\",\"orientation\":\"v\",\"showlegend\":true,\"x\":[\"2016-01-12T00:00:00\",\"2016-01-12T01:00:00\",\"2016-01-12T02:00:00\",\"2016-01-12T03:00:00\",\"2016-01-12T04:00:00\",\"2016-01-12T05:00:00\",\"2016-01-12T06:00:00\",\"2016-01-12T07:00:00\",\"2016-01-12T08:00:00\",\"2016-01-12T09:00:00\",\"2016-01-12T10:00:00\",\"2016-01-12T11:00:00\",\"2016-01-12T12:00:00\",\"2016-01-12T13:00:00\",\"2016-01-12T14:00:00\",\"2016-01-12T15:00:00\",\"2016-01-12T16:00:00\",\"2016-01-12T17:00:00\",\"2016-01-12T18:00:00\",\"2016-01-12T19:00:00\",\"2016-01-12T20:00:00\",\"2016-01-12T21:00:00\",\"2016-01-12T22:00:00\",\"2016-01-12T23:00:00\"],\"xaxis\":\"x\",\"y\":[4.953476880256307,5.12594614060725,3.8066624897703196,3.5553480614894135,3.8066624897703196,3.7689221617874726,3.6888794541139363,4.037186148382152,4.4620693423474185,3.7689221617874726,5.438079308923196,4.007333185232471,5.2293244950610855,5.02168513028284,4.917544871030244,3.6018680771243066,3.6888794541139363,5.386022946967143,4.0661736852554045,4.007333185232471,3.9448128282511368,3.7297014486341915,3.8430301339411947,3.7689221617874726],\"yaxis\":\"y\",\"type\":\"scatter\"},{\"hovertemplate\":\"weekday=Wednesday<br>date=%{x}<br>log_energy_consumption=%{y}<extra></extra>\",\"legendgroup\":\"Wednesday\",\"line\":{\"color\":\"#00cc96\",\"dash\":\"solid\"},\"marker\":{\"symbol\":\"circle\"},\"mode\":\"lines\",\"name\":\"Wednesday\",\"orientation\":\"v\",\"showlegend\":true,\"x\":[\"2016-01-13T00:00:00\",\"2016-01-13T01:00:00\",\"2016-01-13T02:00:00\",\"2016-01-13T03:00:00\",\"2016-01-13T04:00:00\",\"2016-01-13T05:00:00\",\"2016-01-13T06:00:00\",\"2016-01-13T07:00:00\",\"2016-01-13T08:00:00\",\"2016-01-13T09:00:00\",\"2016-01-13T10:00:00\",\"2016-01-13T11:00:00\",\"2016-01-13T12:00:00\",\"2016-01-13T13:00:00\",\"2016-01-13T14:00:00\",\"2016-01-13T15:00:00\",\"2016-01-13T16:00:00\",\"2016-01-13T17:00:00\",\"2016-01-13T18:00:00\",\"2016-01-13T19:00:00\",\"2016-01-13T20:00:00\",\"2016-01-13T21:00:00\",\"2016-01-13T22:00:00\",\"2016-01-13T23:00:00\"],\"xaxis\":\"x\",\"y\":[3.455264602932431,3.8781214537524646,3.8066624897703196,3.455264602932431,3.8066624897703196,3.7297014486341915,4.199705077879927,4.148411783492376,5.339139361068292,5.393627546352362,4.199705077879927,4.0943445622221,3.7297014486341915,3.5553480614894135,3.8066624897703196,3.7297014486341915,4.382026634673881,4.5712686343124105,4.715518243156957,5.362855887685608,5.51477192971145,5.74726758659594,4.880273476233012,3.7297014486341915],\"yaxis\":\"y\",\"type\":\"scatter\"},{\"hovertemplate\":\"weekday=Thursday<br>date=%{x}<br>log_energy_consumption=%{y}<extra></extra>\",\"legendgroup\":\"Thursday\",\"line\":{\"color\":\"#ab63fa\",\"dash\":\"solid\"},\"marker\":{\"symbol\":\"circle\"},\"mode\":\"lines\",\"name\":\"Thursday\",\"orientation\":\"v\",\"showlegend\":true,\"x\":[\"2016-01-14T00:00:00\",\"2016-01-14T01:00:00\",\"2016-01-14T02:00:00\",\"2016-01-14T03:00:00\",\"2016-01-14T04:00:00\",\"2016-01-14T05:00:00\",\"2016-01-14T06:00:00\",\"2016-01-14T07:00:00\",\"2016-01-14T08:00:00\",\"2016-01-14T09:00:00\",\"2016-01-14T10:00:00\",\"2016-01-14T11:00:00\",\"2016-01-14T12:00:00\",\"2016-01-14T13:00:00\",\"2016-01-14T14:00:00\",\"2016-01-14T15:00:00\",\"2016-01-14T16:00:00\",\"2016-01-14T17:00:00\",\"2016-01-14T18:00:00\",\"2016-01-14T19:00:00\",\"2016-01-14T20:00:00\",\"2016-01-14T21:00:00\",\"2016-01-14T22:00:00\",\"2016-01-14T23:00:00\"],\"xaxis\":\"x\",\"y\":[3.8430301339411947,3.6018680771243066,3.7689221617874726,3.8066624897703196,3.5553480614894135,3.8066624897703196,3.6888794541139363,5.423480509502043,5.075173815233827,5.12594614060725,6.288477946988647,5.473670254025898,5.646624060816253,4.248495242049359,4.867534450455582,3.9448128282511368,5.731181448844316,6.003887067106539,5.378360074221573,5.445299556896682,4.700480365792417,4.75932086581535,3.8781214537524646,3.6463198396951406],\"yaxis\":\"y\",\"type\":\"scatter\"},{\"hovertemplate\":\"weekday=Friday<br>date=%{x}<br>log_energy_consumption=%{y}<extra></extra>\",\"legendgroup\":\"Friday\",\"line\":{\"color\":\"#FFA15A\",\"dash\":\"solid\"},\"marker\":{\"symbol\":\"circle\"},\"mode\":\"lines\",\"name\":\"Friday\",\"orientation\":\"v\",\"showlegend\":true,\"x\":[\"2016-01-15T00:00:00\",\"2016-01-15T01:00:00\",\"2016-01-15T02:00:00\",\"2016-01-15T03:00:00\",\"2016-01-15T04:00:00\",\"2016-01-15T05:00:00\",\"2016-01-15T06:00:00\",\"2016-01-15T07:00:00\",\"2016-01-15T08:00:00\",\"2016-01-15T09:00:00\",\"2016-01-15T10:00:00\",\"2016-01-15T11:00:00\",\"2016-01-15T12:00:00\",\"2016-01-15T13:00:00\",\"2016-01-15T14:00:00\",\"2016-01-15T15:00:00\",\"2016-01-15T16:00:00\",\"2016-01-15T17:00:00\",\"2016-01-15T18:00:00\",\"2016-01-15T19:00:00\",\"2016-01-15T20:00:00\",\"2016-01-15T21:00:00\",\"2016-01-15T22:00:00\",\"2016-01-15T23:00:00\"],\"xaxis\":\"x\",\"y\":[3.9765615265657175,3.9448128282511368,3.8430301339411947,3.7689221617874726,3.912023005428146,3.912023005428146,3.8066624897703196,3.9448128282511368,5.459585514144159,5.331107189371028,4.8283137373023015,4.8283137373023015,5.3471075307174685,5.281510248231656,4.148411783492376,4.037186148382152,4.037186148382152,4.58836306767171,5.628819436182746,5.393627546352362,5.452468046375295,5.438079308923196,5.386022946967143,4.148411783492376],\"yaxis\":\"y\",\"type\":\"scatter\"},{\"hovertemplate\":\"weekday=Saturday<br>date=%{x}<br>log_energy_consumption=%{y}<extra></extra>\",\"legendgroup\":\"Saturday\",\"line\":{\"color\":\"#19d3f3\",\"dash\":\"solid\"},\"marker\":{\"symbol\":\"circle\"},\"mode\":\"lines\",\"name\":\"Saturday\",\"orientation\":\"v\",\"showlegend\":true,\"x\":[\"2016-01-16T00:00:00\",\"2016-01-16T01:00:00\",\"2016-01-16T02:00:00\",\"2016-01-16T03:00:00\",\"2016-01-16T04:00:00\",\"2016-01-16T05:00:00\",\"2016-01-16T06:00:00\",\"2016-01-16T07:00:00\",\"2016-01-16T08:00:00\",\"2016-01-16T09:00:00\",\"2016-01-16T10:00:00\",\"2016-01-16T11:00:00\",\"2016-01-16T12:00:00\",\"2016-01-16T13:00:00\",\"2016-01-16T14:00:00\",\"2016-01-16T15:00:00\",\"2016-01-16T16:00:00\",\"2016-01-16T17:00:00\",\"2016-01-16T18:00:00\",\"2016-01-16T19:00:00\",\"2016-01-16T20:00:00\",\"2016-01-16T21:00:00\",\"2016-01-16T22:00:00\",\"2016-01-16T23:00:00\"],\"xaxis\":\"x\",\"y\":[3.6888794541139363,3.9765615265657175,3.8430301339411947,3.7297014486341915,3.912023005428146,3.6888794541139363,3.9448128282511368,5.508037897530106,4.941642422609304,4.121743536410215,4.272025739459553,3.9765615265657175,4.31748811353631,4.4620693423474185,4.272025739459553,5.339139361068292,4.31748811353631,5.579729825986222,6.159799861927197,5.970411137910149,4.773505500807306,4.787491742782046,5.135798437050262,4.007333185232471],\"yaxis\":\"y\",\"type\":\"scatter\"},{\"hovertemplate\":\"weekday=Sunday<br>date=%{x}<br>log_energy_consumption=%{y}<extra></extra>\",\"legendgroup\":\"Sunday\",\"line\":{\"color\":\"#FF6692\",\"dash\":\"solid\"},\"marker\":{\"symbol\":\"circle\"},\"mode\":\"lines\",\"name\":\"Sunday\",\"orientation\":\"v\",\"showlegend\":true,\"x\":[\"2016-01-17T00:00:00\",\"2016-01-17T01:00:00\",\"2016-01-17T02:00:00\",\"2016-01-17T03:00:00\",\"2016-01-17T04:00:00\",\"2016-01-17T05:00:00\",\"2016-01-17T06:00:00\",\"2016-01-17T07:00:00\",\"2016-01-17T08:00:00\",\"2016-01-17T09:00:00\",\"2016-01-17T10:00:00\",\"2016-01-17T11:00:00\",\"2016-01-17T12:00:00\",\"2016-01-17T13:00:00\",\"2016-01-17T14:00:00\",\"2016-01-17T15:00:00\",\"2016-01-17T16:00:00\",\"2016-01-17T17:00:00\",\"2016-01-17T18:00:00\",\"2016-01-17T19:00:00\",\"2016-01-17T20:00:00\",\"2016-01-17T21:00:00\",\"2016-01-17T22:00:00\"],\"xaxis\":\"x\",\"y\":[3.8430301339411947,3.9448128282511368,3.7689221617874726,3.912023005428146,3.9448128282511368,3.7689221617874726,3.8066624897703196,5.853159875730801,5.604575824572753,5.675611597689505,4.499809670330265,5.76309905181262,4.773505500807306,5.135798437050262,4.929666231562589,4.402645921876617,4.402645921876617,6.12029741895095,5.592229988750454,4.621699487939302,4.700480365792417,4.867534450455582,4.007333185232471],\"yaxis\":\"y\",\"type\":\"scatter\"}],                        {\"template\":{\"data\":{\"bar\":[{\"error_x\":{\"color\":\"#2a3f5f\"},\"error_y\":{\"color\":\"#2a3f5f\"},\"marker\":{\"line\":{\"color\":\"#E5ECF6\",\"width\":0.5},\"pattern\":{\"fillmode\":\"overlay\",\"size\":10,\"solidity\":0.2}},\"type\":\"bar\"}],\"barpolar\":[{\"marker\":{\"line\":{\"color\":\"#E5ECF6\",\"width\":0.5},\"pattern\":{\"fillmode\":\"overlay\",\"size\":10,\"solidity\":0.2}},\"type\":\"barpolar\"}],\"carpet\":[{\"aaxis\":{\"endlinecolor\":\"#2a3f5f\",\"gridcolor\":\"white\",\"linecolor\":\"white\",\"minorgridcolor\":\"white\",\"startlinecolor\":\"#2a3f5f\"},\"baxis\":{\"endlinecolor\":\"#2a3f5f\",\"gridcolor\":\"white\",\"linecolor\":\"white\",\"minorgridcolor\":\"white\",\"startlinecolor\":\"#2a3f5f\"},\"type\":\"carpet\"}],\"choropleth\":[{\"colorbar\":{\"outlinewidth\":0,\"ticks\":\"\"},\"type\":\"choropleth\"}],\"contour\":[{\"colorbar\":{\"outlinewidth\":0,\"ticks\":\"\"},\"colorscale\":[[0.0,\"#0d0887\"],[0.1111111111111111,\"#46039f\"],[0.2222222222222222,\"#7201a8\"],[0.3333333333333333,\"#9c179e\"],[0.4444444444444444,\"#bd3786\"],[0.5555555555555556,\"#d8576b\"],[0.6666666666666666,\"#ed7953\"],[0.7777777777777778,\"#fb9f3a\"],[0.8888888888888888,\"#fdca26\"],[1.0,\"#f0f921\"]],\"type\":\"contour\"}],\"contourcarpet\":[{\"colorbar\":{\"outlinewidth\":0,\"ticks\":\"\"},\"type\":\"contourcarpet\"}],\"heatmap\":[{\"colorbar\":{\"outlinewidth\":0,\"ticks\":\"\"},\"colorscale\":[[0.0,\"#0d0887\"],[0.1111111111111111,\"#46039f\"],[0.2222222222222222,\"#7201a8\"],[0.3333333333333333,\"#9c179e\"],[0.4444444444444444,\"#bd3786\"],[0.5555555555555556,\"#d8576b\"],[0.6666666666666666,\"#ed7953\"],[0.7777777777777778,\"#fb9f3a\"],[0.8888888888888888,\"#fdca26\"],[1.0,\"#f0f921\"]],\"type\":\"heatmap\"}],\"heatmapgl\":[{\"colorbar\":{\"outlinewidth\":0,\"ticks\":\"\"},\"colorscale\":[[0.0,\"#0d0887\"],[0.1111111111111111,\"#46039f\"],[0.2222222222222222,\"#7201a8\"],[0.3333333333333333,\"#9c179e\"],[0.4444444444444444,\"#bd3786\"],[0.5555555555555556,\"#d8576b\"],[0.6666666666666666,\"#ed7953\"],[0.7777777777777778,\"#fb9f3a\"],[0.8888888888888888,\"#fdca26\"],[1.0,\"#f0f921\"]],\"type\":\"heatmapgl\"}],\"histogram\":[{\"marker\":{\"pattern\":{\"fillmode\":\"overlay\",\"size\":10,\"solidity\":0.2}},\"type\":\"histogram\"}],\"histogram2d\":[{\"colorbar\":{\"outlinewidth\":0,\"ticks\":\"\"},\"colorscale\":[[0.0,\"#0d0887\"],[0.1111111111111111,\"#46039f\"],[0.2222222222222222,\"#7201a8\"],[0.3333333333333333,\"#9c179e\"],[0.4444444444444444,\"#bd3786\"],[0.5555555555555556,\"#d8576b\"],[0.6666666666666666,\"#ed7953\"],[0.7777777777777778,\"#fb9f3a\"],[0.8888888888888888,\"#fdca26\"],[1.0,\"#f0f921\"]],\"type\":\"histogram2d\"}],\"histogram2dcontour\":[{\"colorbar\":{\"outlinewidth\":0,\"ticks\":\"\"},\"colorscale\":[[0.0,\"#0d0887\"],[0.1111111111111111,\"#46039f\"],[0.2222222222222222,\"#7201a8\"],[0.3333333333333333,\"#9c179e\"],[0.4444444444444444,\"#bd3786\"],[0.5555555555555556,\"#d8576b\"],[0.6666666666666666,\"#ed7953\"],[0.7777777777777778,\"#fb9f3a\"],[0.8888888888888888,\"#fdca26\"],[1.0,\"#f0f921\"]],\"type\":\"histogram2dcontour\"}],\"mesh3d\":[{\"colorbar\":{\"outlinewidth\":0,\"ticks\":\"\"},\"type\":\"mesh3d\"}],\"parcoords\":[{\"line\":{\"colorbar\":{\"outlinewidth\":0,\"ticks\":\"\"}},\"type\":\"parcoords\"}],\"pie\":[{\"automargin\":true,\"type\":\"pie\"}],\"scatter\":[{\"marker\":{\"colorbar\":{\"outlinewidth\":0,\"ticks\":\"\"}},\"type\":\"scatter\"}],\"scatter3d\":[{\"line\":{\"colorbar\":{\"outlinewidth\":0,\"ticks\":\"\"}},\"marker\":{\"colorbar\":{\"outlinewidth\":0,\"ticks\":\"\"}},\"type\":\"scatter3d\"}],\"scattercarpet\":[{\"marker\":{\"colorbar\":{\"outlinewidth\":0,\"ticks\":\"\"}},\"type\":\"scattercarpet\"}],\"scattergeo\":[{\"marker\":{\"colorbar\":{\"outlinewidth\":0,\"ticks\":\"\"}},\"type\":\"scattergeo\"}],\"scattergl\":[{\"marker\":{\"colorbar\":{\"outlinewidth\":0,\"ticks\":\"\"}},\"type\":\"scattergl\"}],\"scattermapbox\":[{\"marker\":{\"colorbar\":{\"outlinewidth\":0,\"ticks\":\"\"}},\"type\":\"scattermapbox\"}],\"scatterpolar\":[{\"marker\":{\"colorbar\":{\"outlinewidth\":0,\"ticks\":\"\"}},\"type\":\"scatterpolar\"}],\"scatterpolargl\":[{\"marker\":{\"colorbar\":{\"outlinewidth\":0,\"ticks\":\"\"}},\"type\":\"scatterpolargl\"}],\"scatterternary\":[{\"marker\":{\"colorbar\":{\"outlinewidth\":0,\"ticks\":\"\"}},\"type\":\"scatterternary\"}],\"surface\":[{\"colorbar\":{\"outlinewidth\":0,\"ticks\":\"\"},\"colorscale\":[[0.0,\"#0d0887\"],[0.1111111111111111,\"#46039f\"],[0.2222222222222222,\"#7201a8\"],[0.3333333333333333,\"#9c179e\"],[0.4444444444444444,\"#bd3786\"],[0.5555555555555556,\"#d8576b\"],[0.6666666666666666,\"#ed7953\"],[0.7777777777777778,\"#fb9f3a\"],[0.8888888888888888,\"#fdca26\"],[1.0,\"#f0f921\"]],\"type\":\"surface\"}],\"table\":[{\"cells\":{\"fill\":{\"color\":\"#EBF0F8\"},\"line\":{\"color\":\"white\"}},\"header\":{\"fill\":{\"color\":\"#C8D4E3\"},\"line\":{\"color\":\"white\"}},\"type\":\"table\"}]},\"layout\":{\"annotationdefaults\":{\"arrowcolor\":\"#2a3f5f\",\"arrowhead\":0,\"arrowwidth\":1},\"autotypenumbers\":\"strict\",\"coloraxis\":{\"colorbar\":{\"outlinewidth\":0,\"ticks\":\"\"}},\"colorscale\":{\"diverging\":[[0,\"#8e0152\"],[0.1,\"#c51b7d\"],[0.2,\"#de77ae\"],[0.3,\"#f1b6da\"],[0.4,\"#fde0ef\"],[0.5,\"#f7f7f7\"],[0.6,\"#e6f5d0\"],[0.7,\"#b8e186\"],[0.8,\"#7fbc41\"],[0.9,\"#4d9221\"],[1,\"#276419\"]],\"sequential\":[[0.0,\"#0d0887\"],[0.1111111111111111,\"#46039f\"],[0.2222222222222222,\"#7201a8\"],[0.3333333333333333,\"#9c179e\"],[0.4444444444444444,\"#bd3786\"],[0.5555555555555556,\"#d8576b\"],[0.6666666666666666,\"#ed7953\"],[0.7777777777777778,\"#fb9f3a\"],[0.8888888888888888,\"#fdca26\"],[1.0,\"#f0f921\"]],\"sequentialminus\":[[0.0,\"#0d0887\"],[0.1111111111111111,\"#46039f\"],[0.2222222222222222,\"#7201a8\"],[0.3333333333333333,\"#9c179e\"],[0.4444444444444444,\"#bd3786\"],[0.5555555555555556,\"#d8576b\"],[0.6666666666666666,\"#ed7953\"],[0.7777777777777778,\"#fb9f3a\"],[0.8888888888888888,\"#fdca26\"],[1.0,\"#f0f921\"]]},\"colorway\":[\"#636efa\",\"#EF553B\",\"#00cc96\",\"#ab63fa\",\"#FFA15A\",\"#19d3f3\",\"#FF6692\",\"#B6E880\",\"#FF97FF\",\"#FECB52\"],\"font\":{\"color\":\"#2a3f5f\"},\"geo\":{\"bgcolor\":\"white\",\"lakecolor\":\"white\",\"landcolor\":\"#E5ECF6\",\"showlakes\":true,\"showland\":true,\"subunitcolor\":\"white\"},\"hoverlabel\":{\"align\":\"left\"},\"hovermode\":\"closest\",\"mapbox\":{\"style\":\"light\"},\"paper_bgcolor\":\"white\",\"plot_bgcolor\":\"#E5ECF6\",\"polar\":{\"angularaxis\":{\"gridcolor\":\"white\",\"linecolor\":\"white\",\"ticks\":\"\"},\"bgcolor\":\"#E5ECF6\",\"radialaxis\":{\"gridcolor\":\"white\",\"linecolor\":\"white\",\"ticks\":\"\"}},\"scene\":{\"xaxis\":{\"backgroundcolor\":\"#E5ECF6\",\"gridcolor\":\"white\",\"gridwidth\":2,\"linecolor\":\"white\",\"showbackground\":true,\"ticks\":\"\",\"zerolinecolor\":\"white\"},\"yaxis\":{\"backgroundcolor\":\"#E5ECF6\",\"gridcolor\":\"white\",\"gridwidth\":2,\"linecolor\":\"white\",\"showbackground\":true,\"ticks\":\"\",\"zerolinecolor\":\"white\"},\"zaxis\":{\"backgroundcolor\":\"#E5ECF6\",\"gridcolor\":\"white\",\"gridwidth\":2,\"linecolor\":\"white\",\"showbackground\":true,\"ticks\":\"\",\"zerolinecolor\":\"white\"}},\"shapedefaults\":{\"line\":{\"color\":\"#2a3f5f\"}},\"ternary\":{\"aaxis\":{\"gridcolor\":\"white\",\"linecolor\":\"white\",\"ticks\":\"\"},\"baxis\":{\"gridcolor\":\"white\",\"linecolor\":\"white\",\"ticks\":\"\"},\"bgcolor\":\"#E5ECF6\",\"caxis\":{\"gridcolor\":\"white\",\"linecolor\":\"white\",\"ticks\":\"\"}},\"title\":{\"x\":0.05},\"xaxis\":{\"automargin\":true,\"gridcolor\":\"white\",\"linecolor\":\"white\",\"ticks\":\"\",\"title\":{\"standoff\":15},\"zerolinecolor\":\"white\",\"zerolinewidth\":2},\"yaxis\":{\"automargin\":true,\"gridcolor\":\"white\",\"linecolor\":\"white\",\"ticks\":\"\",\"title\":{\"standoff\":15},\"zerolinecolor\":\"white\",\"zerolinewidth\":2}}},\"xaxis\":{\"anchor\":\"y\",\"domain\":[0.0,1.0],\"title\":{\"text\":\"date\"}},\"yaxis\":{\"anchor\":\"x\",\"domain\":[0.0,1.0],\"title\":{\"text\":\"log_energy_consumption\"}},\"legend\":{\"title\":{\"text\":\"weekday\"},\"tracegroupgap\":0},\"title\":{\"text\":\"Log of Appliance Energy Consumption vs Time\"}},                        {\"responsive\": true}                    ).then(function(){\n",
              "                            \n",
              "var gd = document.getElementById('a961e5a3-faf3-4efb-9533-a1f4a8e6bd32');\n",
              "var x = new MutationObserver(function (mutations, observer) {{\n",
              "        var display = window.getComputedStyle(gd).display;\n",
              "        if (!display || display === 'none') {{\n",
              "            console.log([gd, 'removed!']);\n",
              "            Plotly.purge(gd);\n",
              "            observer.disconnect();\n",
              "        }}\n",
              "}});\n",
              "\n",
              "// Listen for the removal of the full notebook cells\n",
              "var notebookContainer = gd.closest('#notebook-container');\n",
              "if (notebookContainer) {{\n",
              "    x.observe(notebookContainer, {childList: true});\n",
              "}}\n",
              "\n",
              "// Listen for the clearing of the current output cell\n",
              "var outputEl = gd.closest('.output');\n",
              "if (outputEl) {{\n",
              "    x.observe(outputEl, {childList: true});\n",
              "}}\n",
              "\n",
              "                        })                };                            </script>        </div>\n",
              "</body>\n",
              "</html>"
            ]
          },
          "metadata": {},
          "output_type": "display_data"
        }
      ],
      "source": [
        "import plotly.express as px\n",
        "\n",
        "plot_length = 150\n",
        "plot_df = resample_df.copy(deep=True).iloc[:plot_length]\n",
        "plot_df['weekday'] = plot_df['date'].dt.day_name()\n",
        "\n",
        "fig = px.line(plot_df,\n",
        "              x=\"date\",\n",
        "              y=\"log_energy_consumption\", \n",
        "              color=\"weekday\", \n",
        "              title=\"Log of Appliance Energy Consumption vs Time\")\n",
        "fig.show()"
      ]
    },
    {
      "cell_type": "markdown",
      "metadata": {
        "id": "aFnQ3txg_2lj"
      },
      "source": [
        "# Prepare Training Data"
      ]
    },
    {
      "cell_type": "markdown",
      "metadata": {
        "id": "9gUa6m83NgDn"
      },
      "source": [
        "For this example, we will use sliding windows of 10 points per each window (equivalent to 10 hours) to predict each next point. The window size can be altered via the `sequence_length` variable.\n",
        "\n",
        "Min-Max scaling has also been fitted to the training data to aid the convergence of the neural network. "
      ]
    },
    {
      "cell_type": "code",
      "execution_count": 12,
      "metadata": {
        "colab": {
          "base_uri": "https://localhost:8080/"
        },
        "id": "aKQHyh5rRVVj",
        "outputId": "326aa7dc-63b0-4858-9205-150057b785d4"
      },
      "outputs": [],
      "source": [
        "from sklearn.preprocessing import MinMaxScaler\n",
        "\n",
        "sequence_length = 10\n",
        "output_length = 1\n",
        "\n",
        "\n",
        "def create_sliding_window(data, sequence_length, stride=1):\n",
        "    X_list, y_list = [], []\n",
        "    for i in range(len(data)):\n",
        "      if (i + sequence_length) < len(data):\n",
        "        X_list.append(data.iloc[i:i+sequence_length:stride, :].values)\n",
        "        y_list.append(data.iloc[i:i+output_length, -1])\n",
        "    return np.array(X_list), np.array(y_list)\n",
        "\n",
        "train_split = 0.7\n",
        "n_train = int(train_split * len(resample_df))\n",
        "n_test = len(resample_df) - n_train\n",
        "\n",
        "features = ['day_of_week', 'hour_of_day', 'log_energy_consumption']\n",
        "feature_array = resample_df[features].values\n",
        "\n"
      ]
    },
    {
      "cell_type": "code",
      "execution_count": 13,
      "metadata": {},
      "outputs": [
        {
          "data": {
            "text/plain": [
              "array([[ 0.        , 17.        ,  4.00733319],\n",
              "       [ 0.        , 18.        ,  5.17426472],\n",
              "       [ 0.        , 19.        ,  5.15521652],\n",
              "       ...,\n",
              "       [ 4.        , 16.        ,  4.90527478],\n",
              "       [ 4.        , 17.        ,  5.19295685],\n",
              "       [ 4.        , 18.        ,  6.06378521]])"
            ]
          },
          "execution_count": 13,
          "metadata": {},
          "output_type": "execute_result"
        }
      ],
      "source": [
        "feature_array"
      ]
    },
    {
      "cell_type": "code",
      "execution_count": 15,
      "metadata": {},
      "outputs": [
        {
          "data": {
            "text/plain": [
              "array([[ 0.        , 17.        ,  4.00733319],\n",
              "       [ 0.        , 18.        ,  5.17426472],\n",
              "       [ 0.        , 19.        ,  5.15521652],\n",
              "       ...,\n",
              "       [ 5.        , 13.        ,  5.45246805],\n",
              "       [ 5.        , 14.        ,  5.48755937],\n",
              "       [ 5.        , 15.        ,  4.73033333]])"
            ]
          },
          "execution_count": 15,
          "metadata": {},
          "output_type": "execute_result"
        }
      ],
      "source": [
        "feature_array[:n_train]"
      ]
    },
    {
      "cell_type": "code",
      "execution_count": 17,
      "metadata": {},
      "outputs": [
        {
          "data": {
            "text/plain": [
              "array([[4.00733319],\n",
              "       [5.17426472],\n",
              "       [5.15521652],\n",
              "       ...,\n",
              "       [5.45246805],\n",
              "       [5.48755937],\n",
              "       [4.73033333]])"
            ]
          },
          "execution_count": 17,
          "metadata": {},
          "output_type": "execute_result"
        }
      ],
      "source": [
        "feature_array[:n_train, -1].reshape(-1, 1)"
      ]
    },
    {
      "cell_type": "code",
      "execution_count": 18,
      "metadata": {},
      "outputs": [],
      "source": [
        "# Fit Scaler only on Training features\n",
        "feature_scaler = MinMaxScaler()\n",
        "feature_scaler.fit(feature_array[:n_train])\n",
        "# Fit Scaler only on Training target values\n",
        "target_scaler = MinMaxScaler()\n",
        "target_scaler.fit(feature_array[:n_train, -1].reshape(-1, 1))\n",
        "\n",
        "# Transfom on both Training and Test data\n",
        "scaled_array = pd.DataFrame(feature_scaler.transform(feature_array),\n",
        "                            columns=features)\n",
        "\n"
      ]
    },
    {
      "cell_type": "code",
      "execution_count": 19,
      "metadata": {},
      "outputs": [
        {
          "data": {
            "text/html": [
              "<div>\n",
              "<style scoped>\n",
              "    .dataframe tbody tr th:only-of-type {\n",
              "        vertical-align: middle;\n",
              "    }\n",
              "\n",
              "    .dataframe tbody tr th {\n",
              "        vertical-align: top;\n",
              "    }\n",
              "\n",
              "    .dataframe thead th {\n",
              "        text-align: right;\n",
              "    }\n",
              "</style>\n",
              "<table border=\"1\" class=\"dataframe\">\n",
              "  <thead>\n",
              "    <tr style=\"text-align: right;\">\n",
              "      <th></th>\n",
              "      <th>day_of_week</th>\n",
              "      <th>hour_of_day</th>\n",
              "      <th>log_energy_consumption</th>\n",
              "    </tr>\n",
              "  </thead>\n",
              "  <tbody>\n",
              "    <tr>\n",
              "      <th>0</th>\n",
              "      <td>0.000000</td>\n",
              "      <td>0.739130</td>\n",
              "      <td>0.216290</td>\n",
              "    </tr>\n",
              "    <tr>\n",
              "      <th>1</th>\n",
              "      <td>0.000000</td>\n",
              "      <td>0.782609</td>\n",
              "      <td>0.596809</td>\n",
              "    </tr>\n",
              "    <tr>\n",
              "      <th>2</th>\n",
              "      <td>0.000000</td>\n",
              "      <td>0.826087</td>\n",
              "      <td>0.590598</td>\n",
              "    </tr>\n",
              "    <tr>\n",
              "      <th>3</th>\n",
              "      <td>0.000000</td>\n",
              "      <td>0.869565</td>\n",
              "      <td>0.484000</td>\n",
              "    </tr>\n",
              "    <tr>\n",
              "      <th>4</th>\n",
              "      <td>0.000000</td>\n",
              "      <td>0.913043</td>\n",
              "      <td>0.421928</td>\n",
              "    </tr>\n",
              "    <tr>\n",
              "      <th>...</th>\n",
              "      <td>...</td>\n",
              "      <td>...</td>\n",
              "      <td>...</td>\n",
              "    </tr>\n",
              "    <tr>\n",
              "      <th>3285</th>\n",
              "      <td>0.666667</td>\n",
              "      <td>0.608696</td>\n",
              "      <td>0.416626</td>\n",
              "    </tr>\n",
              "    <tr>\n",
              "      <th>3286</th>\n",
              "      <td>0.666667</td>\n",
              "      <td>0.652174</td>\n",
              "      <td>0.324594</td>\n",
              "    </tr>\n",
              "    <tr>\n",
              "      <th>3287</th>\n",
              "      <td>0.666667</td>\n",
              "      <td>0.695652</td>\n",
              "      <td>0.509096</td>\n",
              "    </tr>\n",
              "    <tr>\n",
              "      <th>3288</th>\n",
              "      <td>0.666667</td>\n",
              "      <td>0.739130</td>\n",
              "      <td>0.602905</td>\n",
              "    </tr>\n",
              "    <tr>\n",
              "      <th>3289</th>\n",
              "      <td>0.666667</td>\n",
              "      <td>0.782609</td>\n",
              "      <td>0.886869</td>\n",
              "    </tr>\n",
              "  </tbody>\n",
              "</table>\n",
              "<p>3290 rows × 3 columns</p>\n",
              "</div>"
            ],
            "text/plain": [
              "      day_of_week  hour_of_day  log_energy_consumption\n",
              "0        0.000000     0.739130                0.216290\n",
              "1        0.000000     0.782609                0.596809\n",
              "2        0.000000     0.826087                0.590598\n",
              "3        0.000000     0.869565                0.484000\n",
              "4        0.000000     0.913043                0.421928\n",
              "...           ...          ...                     ...\n",
              "3285     0.666667     0.608696                0.416626\n",
              "3286     0.666667     0.652174                0.324594\n",
              "3287     0.666667     0.695652                0.509096\n",
              "3288     0.666667     0.739130                0.602905\n",
              "3289     0.666667     0.782609                0.886869\n",
              "\n",
              "[3290 rows x 3 columns]"
            ]
          },
          "execution_count": 19,
          "metadata": {},
          "output_type": "execute_result"
        }
      ],
      "source": [
        "scaled_array"
      ]
    },
    {
      "cell_type": "code",
      "execution_count": null,
      "metadata": {},
      "outputs": [],
      "source": [
        "X, y = create_sliding_window(scaled_array, \n",
        "                             sequence_length)\n",
        "\n",
        "X_train = X[:n_train]\n",
        "y_train = y[:n_train]\n",
        "\n",
        "X_test = X[n_train:]\n",
        "y_test = y[n_train:]\n",
        "\n",
        "print(X_train.shape)\n",
        "print(y_train.shape)\n",
        "\n",
        "print(X_test.shape)\n",
        "print(y_test.shape)"
      ]
    },
    {
      "cell_type": "markdown",
      "metadata": {
        "id": "Ue1JcZm_bgsd"
      },
      "source": [
        "# Define Bayesian LSTM Architecture"
      ]
    },
    {
      "cell_type": "code",
      "execution_count": null,
      "metadata": {},
      "outputs": [],
      "source": []
    },
    {
      "cell_type": "markdown",
      "metadata": {
        "id": "VNag-wa-04WZ"
      },
      "source": [
        "To demonstrate a simple working example of the Bayesian LSTM, the model as defined in Uber's paper has been used a starting point. The network architecture is as follows:\n",
        "\n",
        "Encoder-Decoder Stage:\n",
        " - A uni-directional LSTM with 2 stacked layers & 128 hidden units acting as an encoding layer to construct a fixed-dimension embedding state\n",
        " - A uni-directional LSTM with 2 stacked layers & 32 hidden units acting as a decoding layer to produce predictions at future steps\n",
        " - Dropout is applied at **both** training and inference for both LSTM layers\n",
        "\n",
        "\n",
        " Predictor Stage:\n",
        " - 1 fully-connected output layer with 1 output (for predicting the target value) to produce a single value for the target variable\n",
        "\n",
        "\n",
        "By allowing dropout at both training and testing time, the model simulates random sampling, thus allowing varying predictions that can be used to estimate the underlying distribution of the target value, enabling explicit model uncertainties.\n"
      ]
    },
    {
      "cell_type": "code",
      "execution_count": 58,
      "metadata": {
        "id": "OgWyOffPbO0b"
      },
      "outputs": [],
      "source": [
        "import torch\n",
        "import torch.nn as nn\n",
        "import torch.nn.functional as F\n",
        "from torch.autograd import Variable\n",
        "\n",
        "class BayesianLSTM(nn.Module):\n",
        "\n",
        "    def __init__(self, n_features, output_length, batch_size):\n",
        "\n",
        "        super(BayesianLSTM, self).__init__()\n",
        "\n",
        "        self.batch_size = batch_size # user-defined\n",
        "\n",
        "        self.hidden_size_1 = 128 # number of encoder cells (from paper)\n",
        "        self.hidden_size_2 = 32 # number of decoder cells (from paper)\n",
        "        self.stacked_layers = 2 # number of (stacked) LSTM layers for each stage\n",
        "        self.dropout_probability = 0.5 # arbitrary value (the paper suggests that performance is generally stable across all ranges)\n",
        "\n",
        "        self.lstm1 = nn.LSTM(n_features, \n",
        "                             self.hidden_size_1, \n",
        "                             num_layers=self.stacked_layers,\n",
        "                             batch_first=True)\n",
        "        self.lstm2 = nn.LSTM(self.hidden_size_1,\n",
        "                             self.hidden_size_2,\n",
        "                             num_layers=self.stacked_layers,\n",
        "                             batch_first=True)\n",
        "        \n",
        "        self.fc = nn.Linear(self.hidden_size_2, output_length)\n",
        "        self.loss_fn = nn.MSELoss()\n",
        "        \n",
        "    def forward(self, x):\n",
        "        batch_size, seq_len, _ = x.size()\n",
        "\n",
        "        hidden = self.init_hidden1(batch_size)\n",
        "        output, _ = self.lstm1(x, hidden)\n",
        "        output = F.dropout(output, p=self.dropout_probability, training=True)\n",
        "        state = self.init_hidden2(batch_size)\n",
        "        output, state = self.lstm2(output, state)\n",
        "        output = F.dropout(output, p=self.dropout_probability, training=True)\n",
        "        output = output[:, -1, :] # take the last decoder cell's outputs\n",
        "        y_pred = self.fc(output)\n",
        "        return y_pred\n",
        "        \n",
        "    def init_hidden1(self, batch_size):\n",
        "        hidden_state = Variable(torch.zeros(self.stacked_layers, batch_size, self.hidden_size_1))\n",
        "        cell_state = Variable(torch.zeros(self.stacked_layers, batch_size, self.hidden_size_1))\n",
        "        return hidden_state, cell_state\n",
        "    \n",
        "    def init_hidden2(self, batch_size):\n",
        "        hidden_state = Variable(torch.zeros(self.stacked_layers, batch_size, self.hidden_size_2))\n",
        "        cell_state = Variable(torch.zeros(self.stacked_layers, batch_size, self.hidden_size_2))\n",
        "        return hidden_state, cell_state\n",
        "    \n",
        "    def loss(self, pred, truth):\n",
        "        return self.loss_fn(pred, truth)\n",
        "\n",
        "    def predict(self, X):\n",
        "        return self(torch.tensor(X, dtype=torch.float32)).view(-1).detach().numpy()"
      ]
    },
    {
      "cell_type": "markdown",
      "metadata": {
        "id": "DQ8JLm-ShlaU"
      },
      "source": [
        "### Begin Training"
      ]
    },
    {
      "cell_type": "markdown",
      "metadata": {
        "id": "015pu48r3X1F"
      },
      "source": [
        "To train the Bayesian LSTM, we use the ADAM optimizer along with mini-batch gradient descent (`batch_size = 128`). For quick demonstration purposes, the model is trained for 150 epochs.\n",
        "\n",
        "The Bayesian LSTM is trained on the first 70% of data points, using the aforementioned sliding windows of size 10. The remaining 30% of the dataset is held out purely for testing."
      ]
    },
    {
      "cell_type": "code",
      "execution_count": 21,
      "metadata": {},
      "outputs": [
        {
          "data": {
            "text/html": [
              "<div>\n",
              "<style scoped>\n",
              "    .dataframe tbody tr th:only-of-type {\n",
              "        vertical-align: middle;\n",
              "    }\n",
              "\n",
              "    .dataframe tbody tr th {\n",
              "        vertical-align: top;\n",
              "    }\n",
              "\n",
              "    .dataframe thead th {\n",
              "        text-align: right;\n",
              "    }\n",
              "</style>\n",
              "<table border=\"1\" class=\"dataframe\">\n",
              "  <thead>\n",
              "    <tr style=\"text-align: right;\">\n",
              "      <th></th>\n",
              "      <th>day_of_week</th>\n",
              "      <th>hour_of_day</th>\n",
              "      <th>log_energy_consumption</th>\n",
              "    </tr>\n",
              "  </thead>\n",
              "  <tbody>\n",
              "    <tr>\n",
              "      <th>0</th>\n",
              "      <td>0.000000</td>\n",
              "      <td>0.739130</td>\n",
              "      <td>0.216290</td>\n",
              "    </tr>\n",
              "    <tr>\n",
              "      <th>1</th>\n",
              "      <td>0.000000</td>\n",
              "      <td>0.782609</td>\n",
              "      <td>0.596809</td>\n",
              "    </tr>\n",
              "    <tr>\n",
              "      <th>2</th>\n",
              "      <td>0.000000</td>\n",
              "      <td>0.826087</td>\n",
              "      <td>0.590598</td>\n",
              "    </tr>\n",
              "    <tr>\n",
              "      <th>3</th>\n",
              "      <td>0.000000</td>\n",
              "      <td>0.869565</td>\n",
              "      <td>0.484000</td>\n",
              "    </tr>\n",
              "    <tr>\n",
              "      <th>4</th>\n",
              "      <td>0.000000</td>\n",
              "      <td>0.913043</td>\n",
              "      <td>0.421928</td>\n",
              "    </tr>\n",
              "    <tr>\n",
              "      <th>...</th>\n",
              "      <td>...</td>\n",
              "      <td>...</td>\n",
              "      <td>...</td>\n",
              "    </tr>\n",
              "    <tr>\n",
              "      <th>3285</th>\n",
              "      <td>0.666667</td>\n",
              "      <td>0.608696</td>\n",
              "      <td>0.416626</td>\n",
              "    </tr>\n",
              "    <tr>\n",
              "      <th>3286</th>\n",
              "      <td>0.666667</td>\n",
              "      <td>0.652174</td>\n",
              "      <td>0.324594</td>\n",
              "    </tr>\n",
              "    <tr>\n",
              "      <th>3287</th>\n",
              "      <td>0.666667</td>\n",
              "      <td>0.695652</td>\n",
              "      <td>0.509096</td>\n",
              "    </tr>\n",
              "    <tr>\n",
              "      <th>3288</th>\n",
              "      <td>0.666667</td>\n",
              "      <td>0.739130</td>\n",
              "      <td>0.602905</td>\n",
              "    </tr>\n",
              "    <tr>\n",
              "      <th>3289</th>\n",
              "      <td>0.666667</td>\n",
              "      <td>0.782609</td>\n",
              "      <td>0.886869</td>\n",
              "    </tr>\n",
              "  </tbody>\n",
              "</table>\n",
              "<p>3290 rows × 3 columns</p>\n",
              "</div>"
            ],
            "text/plain": [
              "      day_of_week  hour_of_day  log_energy_consumption\n",
              "0        0.000000     0.739130                0.216290\n",
              "1        0.000000     0.782609                0.596809\n",
              "2        0.000000     0.826087                0.590598\n",
              "3        0.000000     0.869565                0.484000\n",
              "4        0.000000     0.913043                0.421928\n",
              "...           ...          ...                     ...\n",
              "3285     0.666667     0.608696                0.416626\n",
              "3286     0.666667     0.652174                0.324594\n",
              "3287     0.666667     0.695652                0.509096\n",
              "3288     0.666667     0.739130                0.602905\n",
              "3289     0.666667     0.782609                0.886869\n",
              "\n",
              "[3290 rows x 3 columns]"
            ]
          },
          "execution_count": 21,
          "metadata": {},
          "output_type": "execute_result"
        }
      ],
      "source": [
        "scaled_array"
      ]
    },
    {
      "cell_type": "code",
      "execution_count": 20,
      "metadata": {
        "id": "47X-uO6UhbCy"
      },
      "outputs": [
        {
          "data": {
            "text/plain": [
              "3"
            ]
          },
          "execution_count": 20,
          "metadata": {},
          "output_type": "execute_result"
        }
      ],
      "source": [
        "n_features = scaled_array.shape[-1]\n",
        "n_features\n"
      ]
    },
    {
      "cell_type": "code",
      "execution_count": null,
      "metadata": {},
      "outputs": [],
      "source": [
        "batch_size = 128\n",
        "n_epochs = 1000\n",
        "learning_rate = 0.0001\n",
        "\n",
        "bayesian_lstm = BayesianLSTM(n_features=n_features,\n",
        "                             output_length=output_length,\n",
        "                             batch_size = batch_size)\n",
        "\n",
        "criterion = torch.nn.MSELoss()\n",
        "optimizer = torch.optim.Adam(bayesian_lstm.parameters(), lr=learning_rate)"
      ]
    },
    {
      "cell_type": "code",
      "execution_count": 64,
      "metadata": {
        "colab": {
          "base_uri": "https://localhost:8080/",
          "height": 849
        },
        "id": "7iZ__nxaCzZE",
        "outputId": "0b37fc86-be8b-4f0f-ec15-36541c1a4e88"
      },
      "outputs": [
        {
          "name": "stdout",
          "output_type": "stream",
          "text": [
            "epoch 10 loss:  0.03704504296183586\n",
            "epoch 20 loss:  0.02226882427930832\n",
            "epoch 30 loss:  0.01998351886868477\n",
            "epoch 40 loss:  0.012195399031043053\n",
            "epoch 50 loss:  0.011668379418551922\n",
            "epoch 60 loss:  0.008281495422124863\n",
            "epoch 70 loss:  0.00846160389482975\n",
            "epoch 80 loss:  0.006129374727606773\n",
            "epoch 90 loss:  0.009280135855078697\n",
            "epoch 100 loss:  0.00588784646242857\n",
            "epoch 110 loss:  0.008669695816934109\n",
            "epoch 120 loss:  0.00511412275955081\n",
            "epoch 130 loss:  0.003992131445556879\n",
            "epoch 140 loss:  0.004649414215236902\n",
            "epoch 150 loss:  0.0044736117124557495\n",
            "epoch 160 loss:  0.006168636493384838\n",
            "epoch 170 loss:  0.006428946740925312\n",
            "epoch 180 loss:  0.004830840043723583\n",
            "epoch 190 loss:  0.004268581513315439\n",
            "epoch 200 loss:  0.00452776625752449\n",
            "epoch 210 loss:  0.005733801051974297\n",
            "epoch 220 loss:  0.0040904441848397255\n",
            "epoch 230 loss:  0.002700401935726404\n",
            "epoch 240 loss:  0.004869458731263876\n",
            "epoch 250 loss:  0.00403921352699399\n",
            "epoch 260 loss:  0.003512314520776272\n",
            "epoch 270 loss:  0.0024146398063749075\n"
          ]
        },
        {
          "ename": "KeyboardInterrupt",
          "evalue": "ignored",
          "output_type": "error",
          "traceback": [
            "\u001b[0;31m---------------------------------------------------------------------------\u001b[0m",
            "\u001b[0;31mKeyboardInterrupt\u001b[0m                         Traceback (most recent call last)",
            "\u001b[0;32m<ipython-input-64-5a033c717e42>\u001b[0m in \u001b[0;36m<module>\u001b[0;34m\u001b[0m\n\u001b[1;32m     14\u001b[0m         \u001b[0mloss\u001b[0m \u001b[0;34m=\u001b[0m \u001b[0mcriterion\u001b[0m\u001b[0;34m(\u001b[0m\u001b[0moutput\u001b[0m\u001b[0;34m.\u001b[0m\u001b[0mview\u001b[0m\u001b[0;34m(\u001b[0m\u001b[0;34m-\u001b[0m\u001b[0;36m1\u001b[0m\u001b[0;34m)\u001b[0m\u001b[0;34m,\u001b[0m \u001b[0my_batch\u001b[0m\u001b[0;34m.\u001b[0m\u001b[0mview\u001b[0m\u001b[0;34m(\u001b[0m\u001b[0;34m-\u001b[0m\u001b[0;36m1\u001b[0m\u001b[0;34m)\u001b[0m\u001b[0;34m)\u001b[0m\u001b[0;34m\u001b[0m\u001b[0;34m\u001b[0m\u001b[0m\n\u001b[1;32m     15\u001b[0m \u001b[0;34m\u001b[0m\u001b[0m\n\u001b[0;32m---> 16\u001b[0;31m         \u001b[0mloss\u001b[0m\u001b[0;34m.\u001b[0m\u001b[0mbackward\u001b[0m\u001b[0;34m(\u001b[0m\u001b[0;34m)\u001b[0m\u001b[0;34m\u001b[0m\u001b[0;34m\u001b[0m\u001b[0m\n\u001b[0m\u001b[1;32m     17\u001b[0m         \u001b[0moptimizer\u001b[0m\u001b[0;34m.\u001b[0m\u001b[0mstep\u001b[0m\u001b[0;34m(\u001b[0m\u001b[0;34m)\u001b[0m\u001b[0;34m\u001b[0m\u001b[0;34m\u001b[0m\u001b[0m\n\u001b[1;32m     18\u001b[0m         \u001b[0moptimizer\u001b[0m\u001b[0;34m.\u001b[0m\u001b[0mzero_grad\u001b[0m\u001b[0;34m(\u001b[0m\u001b[0;34m)\u001b[0m\u001b[0;34m\u001b[0m\u001b[0;34m\u001b[0m\u001b[0m\n",
            "\u001b[0;32m/usr/local/lib/python3.8/dist-packages/torch/_tensor.py\u001b[0m in \u001b[0;36mbackward\u001b[0;34m(self, gradient, retain_graph, create_graph, inputs)\u001b[0m\n\u001b[1;32m    486\u001b[0m                 \u001b[0minputs\u001b[0m\u001b[0;34m=\u001b[0m\u001b[0minputs\u001b[0m\u001b[0;34m,\u001b[0m\u001b[0;34m\u001b[0m\u001b[0;34m\u001b[0m\u001b[0m\n\u001b[1;32m    487\u001b[0m             )\n\u001b[0;32m--> 488\u001b[0;31m         torch.autograd.backward(\n\u001b[0m\u001b[1;32m    489\u001b[0m             \u001b[0mself\u001b[0m\u001b[0;34m,\u001b[0m \u001b[0mgradient\u001b[0m\u001b[0;34m,\u001b[0m \u001b[0mretain_graph\u001b[0m\u001b[0;34m,\u001b[0m \u001b[0mcreate_graph\u001b[0m\u001b[0;34m,\u001b[0m \u001b[0minputs\u001b[0m\u001b[0;34m=\u001b[0m\u001b[0minputs\u001b[0m\u001b[0;34m\u001b[0m\u001b[0;34m\u001b[0m\u001b[0m\n\u001b[1;32m    490\u001b[0m         )\n",
            "\u001b[0;32m/usr/local/lib/python3.8/dist-packages/torch/autograd/__init__.py\u001b[0m in \u001b[0;36mbackward\u001b[0;34m(tensors, grad_tensors, retain_graph, create_graph, grad_variables, inputs)\u001b[0m\n\u001b[1;32m    195\u001b[0m     \u001b[0;31m# some Python versions print out the first line of a multi-line function\u001b[0m\u001b[0;34m\u001b[0m\u001b[0;34m\u001b[0m\u001b[0;34m\u001b[0m\u001b[0m\n\u001b[1;32m    196\u001b[0m     \u001b[0;31m# calls in the traceback and some print out the last line\u001b[0m\u001b[0;34m\u001b[0m\u001b[0;34m\u001b[0m\u001b[0;34m\u001b[0m\u001b[0m\n\u001b[0;32m--> 197\u001b[0;31m     Variable._execution_engine.run_backward(  # Calls into the C++ engine to run the backward pass\n\u001b[0m\u001b[1;32m    198\u001b[0m         \u001b[0mtensors\u001b[0m\u001b[0;34m,\u001b[0m \u001b[0mgrad_tensors_\u001b[0m\u001b[0;34m,\u001b[0m \u001b[0mretain_graph\u001b[0m\u001b[0;34m,\u001b[0m \u001b[0mcreate_graph\u001b[0m\u001b[0;34m,\u001b[0m \u001b[0minputs\u001b[0m\u001b[0;34m,\u001b[0m\u001b[0;34m\u001b[0m\u001b[0;34m\u001b[0m\u001b[0m\n\u001b[1;32m    199\u001b[0m         allow_unreachable=True, accumulate_grad=True)  # Calls into the C++ engine to run the backward pass\n",
            "\u001b[0;31mKeyboardInterrupt\u001b[0m: "
          ]
        }
      ],
      "source": [
        "bayesian_lstm.train()\n",
        "\n",
        "for e in range(1, n_epochs+1):\n",
        "    for b in range(0, len(X_train), batch_size):\n",
        "        features = X_train[b:b+batch_size,:,:]\n",
        "        target = y_train[b:b+batch_size]    \n",
        "\n",
        "        X_batch = torch.tensor(features,dtype=torch.float32)    \n",
        "        y_batch = torch.tensor(target,dtype=torch.float32)\n",
        "\n",
        "        output = bayesian_lstm(X_batch)\n",
        "        # print(output.shape)\n",
        "        # print(y_batch.shape)\n",
        "        loss = criterion(output.view(-1), y_batch.view(-1))  \n",
        "\n",
        "        loss.backward()\n",
        "        optimizer.step()        \n",
        "        optimizer.zero_grad() \n",
        "\n",
        "    if e % 10 == 0:\n",
        "      print('epoch', e, 'loss: ', loss.item())"
      ]
    },
    {
      "cell_type": "markdown",
      "metadata": {
        "id": "vUS459C6ro22"
      },
      "source": [
        "# Evaluating Model Performance"
      ]
    },
    {
      "cell_type": "markdown",
      "metadata": {
        "id": "iGYj2vTl311y"
      },
      "source": [
        "The Bayesian LSTM implemented is shown to produce reasonably accurate and sensible results on both the training and test sets, often comparable to other existing frequentist machine learning and deep learning methods.\n",
        "\n"
      ]
    },
    {
      "cell_type": "code",
      "execution_count": 65,
      "metadata": {
        "id": "C-1VXE3_VH_0"
      },
      "outputs": [],
      "source": [
        "offset = sequence_length\n",
        "\n",
        "def inverse_transform(y):\n",
        "  return target_scaler.inverse_transform(y.reshape(-1, output_length))\n",
        "\n",
        "bayesian_lstm.eval()\n",
        "\n",
        "testing_predictions = bayesian_lstm.predict(X_test)\n",
        "\n",
        "testing_df = pd.DataFrame()\n",
        "testing_df['date'] = resample_df['date'].iloc[n_train + offset::1] \n",
        "testing_df['log_energy_consumption'] = inverse_transform(testing_predictions)\n",
        "testing_df['source'] = 'Test Prediction'\n",
        "\n",
        "testing_truth_df = pd.DataFrame()\n",
        "testing_truth_df['date'] = testing_df['date']\n",
        "testing_truth_df['log_energy_consumption'] = inverse_transform(y_test)\n",
        "testing_truth_df['source'] = 'True Values'\n",
        "\n",
        "evaluation = pd.concat([testing_df,testing_truth_df], axis=0)"
      ]
    },
    {
      "cell_type": "code",
      "execution_count": 66,
      "metadata": {
        "colab": {
          "base_uri": "https://localhost:8080/",
          "height": 542
        },
        "id": "uXQJwRO2FZio",
        "outputId": "ff37f1e0-2d5a-42be-8e1c-7333b0981732"
      },
      "outputs": [
        {
          "data": {
            "text/html": [
              "<html>\n",
              "<head><meta charset=\"utf-8\" /></head>\n",
              "<body>\n",
              "    <div>            <script src=\"https://cdnjs.cloudflare.com/ajax/libs/mathjax/2.7.5/MathJax.js?config=TeX-AMS-MML_SVG\"></script><script type=\"text/javascript\">if (window.MathJax) {MathJax.Hub.Config({SVG: {font: \"STIX-Web\"}});}</script>                <script type=\"text/javascript\">window.PlotlyConfig = {MathJaxConfig: 'local'};</script>\n",
              "        <script src=\"https://cdn.plot.ly/plotly-2.8.3.min.js\"></script>                <div id=\"124460ac-730b-4db2-aee4-13785c3a0ef0\" class=\"plotly-graph-div\" style=\"height:525px; width:100%;\"></div>            <script type=\"text/javascript\">                                    window.PLOTLYENV=window.PLOTLYENV || {};                                    if (document.getElementById(\"124460ac-730b-4db2-aee4-13785c3a0ef0\")) {                    Plotly.newPlot(                        \"124460ac-730b-4db2-aee4-13785c3a0ef0\",                        [{\"hovertemplate\":\"source=Test Prediction<br>date=%{x}<br>log_energy_consumption=%{y}<extra></extra>\",\"legendgroup\":\"Test Prediction\",\"line\":{\"color\":\"#636efa\",\"dash\":\"solid\"},\"marker\":{\"symbol\":\"circle\"},\"mode\":\"lines\",\"name\":\"Test Prediction\",\"orientation\":\"v\",\"showlegend\":true,\"x\":[\"2016-04-17T02:00:00\",\"2016-04-17T03:00:00\",\"2016-04-17T04:00:00\",\"2016-04-17T05:00:00\",\"2016-04-17T06:00:00\",\"2016-04-17T07:00:00\",\"2016-04-17T08:00:00\",\"2016-04-17T09:00:00\",\"2016-04-17T10:00:00\",\"2016-04-17T11:00:00\",\"2016-04-17T12:00:00\",\"2016-04-17T13:00:00\",\"2016-04-17T14:00:00\",\"2016-04-17T15:00:00\",\"2016-04-17T16:00:00\",\"2016-04-17T17:00:00\",\"2016-04-17T18:00:00\",\"2016-04-17T19:00:00\",\"2016-04-17T20:00:00\",\"2016-04-17T21:00:00\",\"2016-04-17T22:00:00\",\"2016-04-17T23:00:00\",\"2016-04-18T00:00:00\",\"2016-04-18T01:00:00\",\"2016-04-18T02:00:00\",\"2016-04-18T03:00:00\",\"2016-04-18T04:00:00\",\"2016-04-18T05:00:00\",\"2016-04-18T06:00:00\",\"2016-04-18T07:00:00\",\"2016-04-18T08:00:00\",\"2016-04-18T09:00:00\",\"2016-04-18T10:00:00\",\"2016-04-18T11:00:00\",\"2016-04-18T12:00:00\",\"2016-04-18T13:00:00\",\"2016-04-18T14:00:00\",\"2016-04-18T15:00:00\",\"2016-04-18T16:00:00\",\"2016-04-18T17:00:00\",\"2016-04-18T18:00:00\",\"2016-04-18T19:00:00\",\"2016-04-18T20:00:00\",\"2016-04-18T21:00:00\",\"2016-04-18T22:00:00\",\"2016-04-18T23:00:00\",\"2016-04-19T00:00:00\",\"2016-04-19T01:00:00\",\"2016-04-19T02:00:00\",\"2016-04-19T03:00:00\",\"2016-04-19T04:00:00\",\"2016-04-19T05:00:00\",\"2016-04-19T06:00:00\",\"2016-04-19T07:00:00\",\"2016-04-19T08:00:00\",\"2016-04-19T09:00:00\",\"2016-04-19T10:00:00\",\"2016-04-19T11:00:00\",\"2016-04-19T12:00:00\",\"2016-04-19T13:00:00\",\"2016-04-19T14:00:00\",\"2016-04-19T15:00:00\",\"2016-04-19T16:00:00\",\"2016-04-19T17:00:00\",\"2016-04-19T18:00:00\",\"2016-04-19T19:00:00\",\"2016-04-19T20:00:00\",\"2016-04-19T21:00:00\",\"2016-04-19T22:00:00\",\"2016-04-19T23:00:00\",\"2016-04-20T00:00:00\",\"2016-04-20T01:00:00\",\"2016-04-20T02:00:00\",\"2016-04-20T03:00:00\",\"2016-04-20T04:00:00\",\"2016-04-20T05:00:00\",\"2016-04-20T06:00:00\",\"2016-04-20T07:00:00\",\"2016-04-20T08:00:00\",\"2016-04-20T09:00:00\",\"2016-04-20T10:00:00\",\"2016-04-20T11:00:00\",\"2016-04-20T12:00:00\",\"2016-04-20T13:00:00\",\"2016-04-20T14:00:00\",\"2016-04-20T15:00:00\",\"2016-04-20T16:00:00\",\"2016-04-20T17:00:00\",\"2016-04-20T18:00:00\",\"2016-04-20T19:00:00\",\"2016-04-20T20:00:00\",\"2016-04-20T21:00:00\",\"2016-04-20T22:00:00\",\"2016-04-20T23:00:00\",\"2016-04-21T00:00:00\",\"2016-04-21T01:00:00\",\"2016-04-21T02:00:00\",\"2016-04-21T03:00:00\",\"2016-04-21T04:00:00\",\"2016-04-21T05:00:00\",\"2016-04-21T06:00:00\",\"2016-04-21T07:00:00\",\"2016-04-21T08:00:00\",\"2016-04-21T09:00:00\",\"2016-04-21T10:00:00\",\"2016-04-21T11:00:00\",\"2016-04-21T12:00:00\",\"2016-04-21T13:00:00\",\"2016-04-21T14:00:00\",\"2016-04-21T15:00:00\",\"2016-04-21T16:00:00\",\"2016-04-21T17:00:00\",\"2016-04-21T18:00:00\",\"2016-04-21T19:00:00\",\"2016-04-21T20:00:00\",\"2016-04-21T21:00:00\",\"2016-04-21T22:00:00\",\"2016-04-21T23:00:00\",\"2016-04-22T00:00:00\",\"2016-04-22T01:00:00\",\"2016-04-22T02:00:00\",\"2016-04-22T03:00:00\",\"2016-04-22T04:00:00\",\"2016-04-22T05:00:00\",\"2016-04-22T06:00:00\",\"2016-04-22T07:00:00\",\"2016-04-22T08:00:00\",\"2016-04-22T09:00:00\",\"2016-04-22T10:00:00\",\"2016-04-22T11:00:00\",\"2016-04-22T12:00:00\",\"2016-04-22T13:00:00\",\"2016-04-22T14:00:00\",\"2016-04-22T15:00:00\",\"2016-04-22T16:00:00\",\"2016-04-22T17:00:00\",\"2016-04-22T18:00:00\",\"2016-04-22T19:00:00\",\"2016-04-22T20:00:00\",\"2016-04-22T21:00:00\",\"2016-04-22T22:00:00\",\"2016-04-22T23:00:00\",\"2016-04-23T00:00:00\"],\"xaxis\":\"x\",\"y\":[5.240632057189941,5.521438121795654,4.663568496704102,4.932809829711914,4.593057632446289,4.491324424743652,4.097440242767334,3.9123106002807617,3.956066846847534,3.8501100540161133,3.900498867034912,4.118498802185059,3.9042513370513916,3.845515251159668,3.8484601974487305,4.167569160461426,5.054676532745361,4.381392002105713,6.061430931091309,5.033720970153809,4.704133033752441,4.1550445556640625,3.9679744243621826,4.465608596801758,5.147604942321777,5.468100547790527,4.784535884857178,4.95769739151001,4.443336486816406,4.186460971832275,4.054110050201416,4.06171178817749,3.95733904838562,4.130518913269043,3.909728765487671,3.8882720470428467,3.804243326187134,3.958576202392578,3.944108009338379,3.897533655166626,3.990143060684204,3.941183090209961,4.055647373199463,4.344069480895996,3.909947395324707,3.875669479370117,3.706393003463745,3.9581074714660645,4.368398666381836,5.4179558753967285,4.970504283905029,4.846659183502197,4.662831783294678,4.070918083190918,3.744004011154175,3.973456382751465,3.8630757331848145,3.7251083850860596,3.8596737384796143,3.8284616470336914,4.025954246520996,4.790675163269043,4.642019271850586,4.80366325378418,3.8453569412231445,3.9153902530670166,3.7323105335235596,3.9458024501800537,3.840533494949341,3.7930150032043457,3.8114006519317627,3.850235939025879,4.228151321411133,5.333829402923584,5.0671257972717285,4.617215633392334,4.395175933837891,4.033343315124512,3.905717372894287,3.7870867252349854,3.9304840564727783,3.846325635910034,3.8853189945220947,3.8640997409820557,3.8957056999206543,3.9024765491485596,4.155920028686523,4.0294060707092285,3.9869563579559326,4.155799865722656,3.9305970668792725,3.7213797569274902,3.907628297805786,4.128830432891846,5.210536479949951,4.198984622955322,4.3080339431762695,5.7065653800964355,5.690702438354492,4.633054733276367,4.604753494262695,4.2602434158325195,3.9467222690582275,3.7612459659576416,3.9522922039031982,4.039718151092529,3.8022425174713135,3.773041009902954,3.981605052947998,4.065727233886719,4.027756690979004,3.733055353164673,3.927561044692993,3.917593240737915,3.9753470420837402,3.955101251602173,3.9412825107574463,4.08978271484375,3.9981331825256348,4.033944129943848,4.727747440338135,5.738157272338867,5.269299507141113,4.788708686828613,5.128195762634277,4.07826042175293,4.251028537750244,4.107371807098389,4.07810640335083,4.172818183898926,4.236273288726807,3.987372636795044,4.152392387390137,4.10205078125,4.246108531951904,4.875073432922363,5.31679630279541,6.636379718780518,6.0342698097229,5.1892499923706055,5.726088047027588,5.634634017944336,4.359541893005371],\"yaxis\":\"y\",\"type\":\"scatter\"},{\"hovertemplate\":\"source=True Values<br>date=%{x}<br>log_energy_consumption=%{y}<extra></extra>\",\"legendgroup\":\"True Values\",\"line\":{\"color\":\"#EF553B\",\"dash\":\"solid\"},\"marker\":{\"symbol\":\"circle\"},\"mode\":\"lines\",\"name\":\"True Values\",\"orientation\":\"v\",\"showlegend\":true,\"x\":[\"2016-04-17T02:00:00\",\"2016-04-17T03:00:00\",\"2016-04-17T04:00:00\",\"2016-04-17T05:00:00\",\"2016-04-17T06:00:00\",\"2016-04-17T07:00:00\",\"2016-04-17T08:00:00\",\"2016-04-17T09:00:00\",\"2016-04-17T10:00:00\",\"2016-04-17T11:00:00\",\"2016-04-17T12:00:00\",\"2016-04-17T13:00:00\",\"2016-04-17T14:00:00\",\"2016-04-17T15:00:00\",\"2016-04-17T16:00:00\",\"2016-04-17T17:00:00\",\"2016-04-17T18:00:00\",\"2016-04-17T19:00:00\",\"2016-04-17T20:00:00\",\"2016-04-17T21:00:00\",\"2016-04-17T22:00:00\",\"2016-04-17T23:00:00\",\"2016-04-18T00:00:00\",\"2016-04-18T01:00:00\",\"2016-04-18T02:00:00\",\"2016-04-18T03:00:00\",\"2016-04-18T04:00:00\",\"2016-04-18T05:00:00\",\"2016-04-18T06:00:00\",\"2016-04-18T07:00:00\",\"2016-04-18T08:00:00\",\"2016-04-18T09:00:00\",\"2016-04-18T10:00:00\",\"2016-04-18T11:00:00\",\"2016-04-18T12:00:00\",\"2016-04-18T13:00:00\",\"2016-04-18T14:00:00\",\"2016-04-18T15:00:00\",\"2016-04-18T16:00:00\",\"2016-04-18T17:00:00\",\"2016-04-18T18:00:00\",\"2016-04-18T19:00:00\",\"2016-04-18T20:00:00\",\"2016-04-18T21:00:00\",\"2016-04-18T22:00:00\",\"2016-04-18T23:00:00\",\"2016-04-19T00:00:00\",\"2016-04-19T01:00:00\",\"2016-04-19T02:00:00\",\"2016-04-19T03:00:00\",\"2016-04-19T04:00:00\",\"2016-04-19T05:00:00\",\"2016-04-19T06:00:00\",\"2016-04-19T07:00:00\",\"2016-04-19T08:00:00\",\"2016-04-19T09:00:00\",\"2016-04-19T10:00:00\",\"2016-04-19T11:00:00\",\"2016-04-19T12:00:00\",\"2016-04-19T13:00:00\",\"2016-04-19T14:00:00\",\"2016-04-19T15:00:00\",\"2016-04-19T16:00:00\",\"2016-04-19T17:00:00\",\"2016-04-19T18:00:00\",\"2016-04-19T19:00:00\",\"2016-04-19T20:00:00\",\"2016-04-19T21:00:00\",\"2016-04-19T22:00:00\",\"2016-04-19T23:00:00\",\"2016-04-20T00:00:00\",\"2016-04-20T01:00:00\",\"2016-04-20T02:00:00\",\"2016-04-20T03:00:00\",\"2016-04-20T04:00:00\",\"2016-04-20T05:00:00\",\"2016-04-20T06:00:00\",\"2016-04-20T07:00:00\",\"2016-04-20T08:00:00\",\"2016-04-20T09:00:00\",\"2016-04-20T10:00:00\",\"2016-04-20T11:00:00\",\"2016-04-20T12:00:00\",\"2016-04-20T13:00:00\",\"2016-04-20T14:00:00\",\"2016-04-20T15:00:00\",\"2016-04-20T16:00:00\",\"2016-04-20T17:00:00\",\"2016-04-20T18:00:00\",\"2016-04-20T19:00:00\",\"2016-04-20T20:00:00\",\"2016-04-20T21:00:00\",\"2016-04-20T22:00:00\",\"2016-04-20T23:00:00\",\"2016-04-21T00:00:00\",\"2016-04-21T01:00:00\",\"2016-04-21T02:00:00\",\"2016-04-21T03:00:00\",\"2016-04-21T04:00:00\",\"2016-04-21T05:00:00\",\"2016-04-21T06:00:00\",\"2016-04-21T07:00:00\",\"2016-04-21T08:00:00\",\"2016-04-21T09:00:00\",\"2016-04-21T10:00:00\",\"2016-04-21T11:00:00\",\"2016-04-21T12:00:00\",\"2016-04-21T13:00:00\",\"2016-04-21T14:00:00\",\"2016-04-21T15:00:00\",\"2016-04-21T16:00:00\",\"2016-04-21T17:00:00\",\"2016-04-21T18:00:00\",\"2016-04-21T19:00:00\",\"2016-04-21T20:00:00\",\"2016-04-21T21:00:00\",\"2016-04-21T22:00:00\",\"2016-04-21T23:00:00\",\"2016-04-22T00:00:00\",\"2016-04-22T01:00:00\",\"2016-04-22T02:00:00\",\"2016-04-22T03:00:00\",\"2016-04-22T04:00:00\",\"2016-04-22T05:00:00\",\"2016-04-22T06:00:00\",\"2016-04-22T07:00:00\",\"2016-04-22T08:00:00\",\"2016-04-22T09:00:00\",\"2016-04-22T10:00:00\",\"2016-04-22T11:00:00\",\"2016-04-22T12:00:00\",\"2016-04-22T13:00:00\",\"2016-04-22T14:00:00\",\"2016-04-22T15:00:00\",\"2016-04-22T16:00:00\",\"2016-04-22T17:00:00\",\"2016-04-22T18:00:00\",\"2016-04-22T19:00:00\",\"2016-04-22T20:00:00\",\"2016-04-22T21:00:00\",\"2016-04-22T22:00:00\",\"2016-04-22T23:00:00\",\"2016-04-23T00:00:00\"],\"xaxis\":\"x\",\"y\":[6.0905554497522125,5.528105460580915,4.917544871030244,4.7303333289420975,4.621699487939302,4.553876891600541,4.148411783492376,4.007333185232471,3.9448128282511368,4.007333185232471,3.8781214537524646,4.0661736852554045,3.8781214537524646,3.9448128282511368,3.912023005428146,4.148411783492376,4.941642422609304,4.637960008811082,6.09807428216624,4.75932086581535,4.965172920019499,4.272025739459553,4.248495242049359,4.553876891600541,5.12594614060725,5.473670254025898,4.8012850649143815,4.814890716970161,4.499809670330265,4.360973225476049,3.976561526565717,4.037186148382152,4.037186148382152,4.199705077879927,3.976561526565717,3.8430301339411947,3.8430301339411947,3.976561526565717,4.007333185232471,3.912023005428146,3.976561526565717,3.912023005428146,3.9448128282511368,4.402645921876617,3.8781214537524646,3.976561526565717,3.6888794541139367,4.007333185232471,4.248495242049359,5.573420656792957,4.880273476233012,4.75932086581535,4.8283137373023015,4.121743536410215,3.7297014486341915,3.9448128282511368,3.976561526565717,3.6463198396951406,3.976561526565717,3.9448128282511368,3.912023005428146,4.715518243156957,4.360973225476049,4.892852258439873,3.8781214537524646,3.976561526565717,3.6463198396951406,3.9448128282511368,3.9448128282511368,3.806662489770319,3.8781214537524646,3.912023005428146,3.9448128282511368,5.51477192971145,4.854631045619675,4.74493212836325,4.4620693423474185,4.0943445622221,3.9448128282511368,3.6888794541139367,4.007333185232471,3.912023005428146,3.806662489770319,3.8781214537524646,3.9448128282511368,3.912023005428146,4.199705077879927,4.037186148382152,3.976561526565717,4.148411783492376,4.174387269895637,3.806662489770319,3.8430301339411947,3.976561526565717,5.155216522907363,4.360973225476049,4.272025739459553,5.19295685089021,5.652489180268651,4.787491742782046,4.685212893661628,4.295015257684252,3.976561526565717,3.7297014486341915,3.9448128282511368,3.976561526565717,3.8781214537524646,3.6888794541139367,3.976561526565717,4.2243976904702984,4.121743536410215,3.7689221617874726,3.9448128282511368,3.9448128282511368,3.9448128282511368,4.007333185232471,3.912023005428146,4.121743536410215,4.121743536410215,4.148411783492376,4.4620693423474185,5.306616169362732,5.19295685089021,4.854631045619675,5.1647859739235145,4.2243976904702984,4.248495242049359,4.2243976904702984,4.121743536410215,4.121743536410215,4.2243976904702984,4.199705077879927,4.199705077879927,4.248495242049359,4.199705077879927,5.145554611995626,5.12594614060725,5.9445476273202305,5.9872891756975015,5.579729825986222,5.84354441703136,5.634789603169249,4.481117537318112],\"yaxis\":\"y\",\"type\":\"scatter\"}],                        {\"template\":{\"data\":{\"bar\":[{\"error_x\":{\"color\":\"#2a3f5f\"},\"error_y\":{\"color\":\"#2a3f5f\"},\"marker\":{\"line\":{\"color\":\"#E5ECF6\",\"width\":0.5},\"pattern\":{\"fillmode\":\"overlay\",\"size\":10,\"solidity\":0.2}},\"type\":\"bar\"}],\"barpolar\":[{\"marker\":{\"line\":{\"color\":\"#E5ECF6\",\"width\":0.5},\"pattern\":{\"fillmode\":\"overlay\",\"size\":10,\"solidity\":0.2}},\"type\":\"barpolar\"}],\"carpet\":[{\"aaxis\":{\"endlinecolor\":\"#2a3f5f\",\"gridcolor\":\"white\",\"linecolor\":\"white\",\"minorgridcolor\":\"white\",\"startlinecolor\":\"#2a3f5f\"},\"baxis\":{\"endlinecolor\":\"#2a3f5f\",\"gridcolor\":\"white\",\"linecolor\":\"white\",\"minorgridcolor\":\"white\",\"startlinecolor\":\"#2a3f5f\"},\"type\":\"carpet\"}],\"choropleth\":[{\"colorbar\":{\"outlinewidth\":0,\"ticks\":\"\"},\"type\":\"choropleth\"}],\"contour\":[{\"colorbar\":{\"outlinewidth\":0,\"ticks\":\"\"},\"colorscale\":[[0.0,\"#0d0887\"],[0.1111111111111111,\"#46039f\"],[0.2222222222222222,\"#7201a8\"],[0.3333333333333333,\"#9c179e\"],[0.4444444444444444,\"#bd3786\"],[0.5555555555555556,\"#d8576b\"],[0.6666666666666666,\"#ed7953\"],[0.7777777777777778,\"#fb9f3a\"],[0.8888888888888888,\"#fdca26\"],[1.0,\"#f0f921\"]],\"type\":\"contour\"}],\"contourcarpet\":[{\"colorbar\":{\"outlinewidth\":0,\"ticks\":\"\"},\"type\":\"contourcarpet\"}],\"heatmap\":[{\"colorbar\":{\"outlinewidth\":0,\"ticks\":\"\"},\"colorscale\":[[0.0,\"#0d0887\"],[0.1111111111111111,\"#46039f\"],[0.2222222222222222,\"#7201a8\"],[0.3333333333333333,\"#9c179e\"],[0.4444444444444444,\"#bd3786\"],[0.5555555555555556,\"#d8576b\"],[0.6666666666666666,\"#ed7953\"],[0.7777777777777778,\"#fb9f3a\"],[0.8888888888888888,\"#fdca26\"],[1.0,\"#f0f921\"]],\"type\":\"heatmap\"}],\"heatmapgl\":[{\"colorbar\":{\"outlinewidth\":0,\"ticks\":\"\"},\"colorscale\":[[0.0,\"#0d0887\"],[0.1111111111111111,\"#46039f\"],[0.2222222222222222,\"#7201a8\"],[0.3333333333333333,\"#9c179e\"],[0.4444444444444444,\"#bd3786\"],[0.5555555555555556,\"#d8576b\"],[0.6666666666666666,\"#ed7953\"],[0.7777777777777778,\"#fb9f3a\"],[0.8888888888888888,\"#fdca26\"],[1.0,\"#f0f921\"]],\"type\":\"heatmapgl\"}],\"histogram\":[{\"marker\":{\"pattern\":{\"fillmode\":\"overlay\",\"size\":10,\"solidity\":0.2}},\"type\":\"histogram\"}],\"histogram2d\":[{\"colorbar\":{\"outlinewidth\":0,\"ticks\":\"\"},\"colorscale\":[[0.0,\"#0d0887\"],[0.1111111111111111,\"#46039f\"],[0.2222222222222222,\"#7201a8\"],[0.3333333333333333,\"#9c179e\"],[0.4444444444444444,\"#bd3786\"],[0.5555555555555556,\"#d8576b\"],[0.6666666666666666,\"#ed7953\"],[0.7777777777777778,\"#fb9f3a\"],[0.8888888888888888,\"#fdca26\"],[1.0,\"#f0f921\"]],\"type\":\"histogram2d\"}],\"histogram2dcontour\":[{\"colorbar\":{\"outlinewidth\":0,\"ticks\":\"\"},\"colorscale\":[[0.0,\"#0d0887\"],[0.1111111111111111,\"#46039f\"],[0.2222222222222222,\"#7201a8\"],[0.3333333333333333,\"#9c179e\"],[0.4444444444444444,\"#bd3786\"],[0.5555555555555556,\"#d8576b\"],[0.6666666666666666,\"#ed7953\"],[0.7777777777777778,\"#fb9f3a\"],[0.8888888888888888,\"#fdca26\"],[1.0,\"#f0f921\"]],\"type\":\"histogram2dcontour\"}],\"mesh3d\":[{\"colorbar\":{\"outlinewidth\":0,\"ticks\":\"\"},\"type\":\"mesh3d\"}],\"parcoords\":[{\"line\":{\"colorbar\":{\"outlinewidth\":0,\"ticks\":\"\"}},\"type\":\"parcoords\"}],\"pie\":[{\"automargin\":true,\"type\":\"pie\"}],\"scatter\":[{\"marker\":{\"colorbar\":{\"outlinewidth\":0,\"ticks\":\"\"}},\"type\":\"scatter\"}],\"scatter3d\":[{\"line\":{\"colorbar\":{\"outlinewidth\":0,\"ticks\":\"\"}},\"marker\":{\"colorbar\":{\"outlinewidth\":0,\"ticks\":\"\"}},\"type\":\"scatter3d\"}],\"scattercarpet\":[{\"marker\":{\"colorbar\":{\"outlinewidth\":0,\"ticks\":\"\"}},\"type\":\"scattercarpet\"}],\"scattergeo\":[{\"marker\":{\"colorbar\":{\"outlinewidth\":0,\"ticks\":\"\"}},\"type\":\"scattergeo\"}],\"scattergl\":[{\"marker\":{\"colorbar\":{\"outlinewidth\":0,\"ticks\":\"\"}},\"type\":\"scattergl\"}],\"scattermapbox\":[{\"marker\":{\"colorbar\":{\"outlinewidth\":0,\"ticks\":\"\"}},\"type\":\"scattermapbox\"}],\"scatterpolar\":[{\"marker\":{\"colorbar\":{\"outlinewidth\":0,\"ticks\":\"\"}},\"type\":\"scatterpolar\"}],\"scatterpolargl\":[{\"marker\":{\"colorbar\":{\"outlinewidth\":0,\"ticks\":\"\"}},\"type\":\"scatterpolargl\"}],\"scatterternary\":[{\"marker\":{\"colorbar\":{\"outlinewidth\":0,\"ticks\":\"\"}},\"type\":\"scatterternary\"}],\"surface\":[{\"colorbar\":{\"outlinewidth\":0,\"ticks\":\"\"},\"colorscale\":[[0.0,\"#0d0887\"],[0.1111111111111111,\"#46039f\"],[0.2222222222222222,\"#7201a8\"],[0.3333333333333333,\"#9c179e\"],[0.4444444444444444,\"#bd3786\"],[0.5555555555555556,\"#d8576b\"],[0.6666666666666666,\"#ed7953\"],[0.7777777777777778,\"#fb9f3a\"],[0.8888888888888888,\"#fdca26\"],[1.0,\"#f0f921\"]],\"type\":\"surface\"}],\"table\":[{\"cells\":{\"fill\":{\"color\":\"#EBF0F8\"},\"line\":{\"color\":\"white\"}},\"header\":{\"fill\":{\"color\":\"#C8D4E3\"},\"line\":{\"color\":\"white\"}},\"type\":\"table\"}]},\"layout\":{\"annotationdefaults\":{\"arrowcolor\":\"#2a3f5f\",\"arrowhead\":0,\"arrowwidth\":1},\"autotypenumbers\":\"strict\",\"coloraxis\":{\"colorbar\":{\"outlinewidth\":0,\"ticks\":\"\"}},\"colorscale\":{\"diverging\":[[0,\"#8e0152\"],[0.1,\"#c51b7d\"],[0.2,\"#de77ae\"],[0.3,\"#f1b6da\"],[0.4,\"#fde0ef\"],[0.5,\"#f7f7f7\"],[0.6,\"#e6f5d0\"],[0.7,\"#b8e186\"],[0.8,\"#7fbc41\"],[0.9,\"#4d9221\"],[1,\"#276419\"]],\"sequential\":[[0.0,\"#0d0887\"],[0.1111111111111111,\"#46039f\"],[0.2222222222222222,\"#7201a8\"],[0.3333333333333333,\"#9c179e\"],[0.4444444444444444,\"#bd3786\"],[0.5555555555555556,\"#d8576b\"],[0.6666666666666666,\"#ed7953\"],[0.7777777777777778,\"#fb9f3a\"],[0.8888888888888888,\"#fdca26\"],[1.0,\"#f0f921\"]],\"sequentialminus\":[[0.0,\"#0d0887\"],[0.1111111111111111,\"#46039f\"],[0.2222222222222222,\"#7201a8\"],[0.3333333333333333,\"#9c179e\"],[0.4444444444444444,\"#bd3786\"],[0.5555555555555556,\"#d8576b\"],[0.6666666666666666,\"#ed7953\"],[0.7777777777777778,\"#fb9f3a\"],[0.8888888888888888,\"#fdca26\"],[1.0,\"#f0f921\"]]},\"colorway\":[\"#636efa\",\"#EF553B\",\"#00cc96\",\"#ab63fa\",\"#FFA15A\",\"#19d3f3\",\"#FF6692\",\"#B6E880\",\"#FF97FF\",\"#FECB52\"],\"font\":{\"color\":\"#2a3f5f\"},\"geo\":{\"bgcolor\":\"white\",\"lakecolor\":\"white\",\"landcolor\":\"#E5ECF6\",\"showlakes\":true,\"showland\":true,\"subunitcolor\":\"white\"},\"hoverlabel\":{\"align\":\"left\"},\"hovermode\":\"closest\",\"mapbox\":{\"style\":\"light\"},\"paper_bgcolor\":\"white\",\"plot_bgcolor\":\"#E5ECF6\",\"polar\":{\"angularaxis\":{\"gridcolor\":\"white\",\"linecolor\":\"white\",\"ticks\":\"\"},\"bgcolor\":\"#E5ECF6\",\"radialaxis\":{\"gridcolor\":\"white\",\"linecolor\":\"white\",\"ticks\":\"\"}},\"scene\":{\"xaxis\":{\"backgroundcolor\":\"#E5ECF6\",\"gridcolor\":\"white\",\"gridwidth\":2,\"linecolor\":\"white\",\"showbackground\":true,\"ticks\":\"\",\"zerolinecolor\":\"white\"},\"yaxis\":{\"backgroundcolor\":\"#E5ECF6\",\"gridcolor\":\"white\",\"gridwidth\":2,\"linecolor\":\"white\",\"showbackground\":true,\"ticks\":\"\",\"zerolinecolor\":\"white\"},\"zaxis\":{\"backgroundcolor\":\"#E5ECF6\",\"gridcolor\":\"white\",\"gridwidth\":2,\"linecolor\":\"white\",\"showbackground\":true,\"ticks\":\"\",\"zerolinecolor\":\"white\"}},\"shapedefaults\":{\"line\":{\"color\":\"#2a3f5f\"}},\"ternary\":{\"aaxis\":{\"gridcolor\":\"white\",\"linecolor\":\"white\",\"ticks\":\"\"},\"baxis\":{\"gridcolor\":\"white\",\"linecolor\":\"white\",\"ticks\":\"\"},\"bgcolor\":\"#E5ECF6\",\"caxis\":{\"gridcolor\":\"white\",\"linecolor\":\"white\",\"ticks\":\"\"}},\"title\":{\"x\":0.05},\"xaxis\":{\"automargin\":true,\"gridcolor\":\"white\",\"linecolor\":\"white\",\"ticks\":\"\",\"title\":{\"standoff\":15},\"zerolinecolor\":\"white\",\"zerolinewidth\":2},\"yaxis\":{\"automargin\":true,\"gridcolor\":\"white\",\"linecolor\":\"white\",\"ticks\":\"\",\"title\":{\"standoff\":15},\"zerolinecolor\":\"white\",\"zerolinewidth\":2}}},\"xaxis\":{\"anchor\":\"y\",\"domain\":[0.0,1.0],\"title\":{\"text\":\"date\"}},\"yaxis\":{\"anchor\":\"x\",\"domain\":[0.0,1.0],\"title\":{\"text\":\"log_energy_consumption\"}},\"legend\":{\"title\":{\"text\":\"source\"},\"tracegroupgap\":0},\"title\":{\"text\":\"Log of Appliance Energy Consumption in Wh vs Time\"}},                        {\"responsive\": true}                    ).then(function(){\n",
              "                            \n",
              "var gd = document.getElementById('124460ac-730b-4db2-aee4-13785c3a0ef0');\n",
              "var x = new MutationObserver(function (mutations, observer) {{\n",
              "        var display = window.getComputedStyle(gd).display;\n",
              "        if (!display || display === 'none') {{\n",
              "            console.log([gd, 'removed!']);\n",
              "            Plotly.purge(gd);\n",
              "            observer.disconnect();\n",
              "        }}\n",
              "}});\n",
              "\n",
              "// Listen for the removal of the full notebook cells\n",
              "var notebookContainer = gd.closest('#notebook-container');\n",
              "if (notebookContainer) {{\n",
              "    x.observe(notebookContainer, {childList: true});\n",
              "}}\n",
              "\n",
              "// Listen for the clearing of the current output cell\n",
              "var outputEl = gd.closest('.output');\n",
              "if (outputEl) {{\n",
              "    x.observe(outputEl, {childList: true});\n",
              "}}\n",
              "\n",
              "                        })                };                            </script>        </div>\n",
              "</body>\n",
              "</html>"
            ]
          },
          "metadata": {},
          "output_type": "display_data"
        }
      ],
      "source": [
        "fig = px.line(evaluation.loc[evaluation['date'].between('2016-04-14', '2016-04-23')],\n",
        "                 x=\"date\",\n",
        "                 y=\"log_energy_consumption\",\n",
        "                 color=\"source\",\n",
        "                 title=\"Log of Appliance Energy Consumption in Wh vs Time\")\n",
        "fig.show()"
      ]
    }
  ],
  "metadata": {
    "colab": {
      "provenance": []
    },
    "kernelspec": {
      "display_name": "Python 3.10.8 ('venv')",
      "language": "python",
      "name": "python3"
    },
    "language_info": {
      "codemirror_mode": {
        "name": "ipython",
        "version": 3
      },
      "file_extension": ".py",
      "mimetype": "text/x-python",
      "name": "python",
      "nbconvert_exporter": "python",
      "pygments_lexer": "ipython3",
      "version": "3.10.8"
    },
    "vscode": {
      "interpreter": {
        "hash": "63ea7ecdf6ab7ce7830195fac4e5be0893d982d514dea1136fa2798f7201c3b8"
      }
    }
  },
  "nbformat": 4,
  "nbformat_minor": 0
}
